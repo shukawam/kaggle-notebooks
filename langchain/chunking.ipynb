{
 "cells": [
  {
   "cell_type": "code",
   "execution_count": 1,
   "metadata": {},
   "outputs": [],
   "source": [
    "from langchain.text_splitter import RecursiveCharacterTextSplitter"
   ]
  },
  {
   "cell_type": "code",
   "execution_count": 2,
   "metadata": {},
   "outputs": [
    {
     "name": "stdout",
     "output_type": "stream",
     "text": [
      "['1234567890123456789', '78901234567890123456', '4567890']\n"
     ]
    }
   ],
   "source": [
    "\n",
    "text = \"\"\"\n",
    "  1234567890123456789012345678901234567890\n",
    "\"\"\"\n",
    "splitter = RecursiveCharacterTextSplitter(\n",
    "  chunk_size=20,\n",
    "  chunk_overlap=3,\n",
    "  length_function=len\n",
    ")\n",
    "response = splitter.split_text(text=text)\n",
    "print(response)"
   ]
  }
 ],
 "metadata": {
  "kernelspec": {
   "display_name": ".venv",
   "language": "python",
   "name": "python3"
  },
  "language_info": {
   "codemirror_mode": {
    "name": "ipython",
    "version": 3
   },
   "file_extension": ".py",
   "mimetype": "text/x-python",
   "name": "python",
   "nbconvert_exporter": "python",
   "pygments_lexer": "ipython3",
   "version": "3.11.7"
  }
 },
 "nbformat": 4,
 "nbformat_minor": 2
}
