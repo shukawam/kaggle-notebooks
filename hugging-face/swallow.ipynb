{
 "cells": [
  {
   "cell_type": "code",
   "execution_count": 3,
   "metadata": {},
   "outputs": [
    {
     "data": {
      "application/vnd.jupyter.widget-view+json": {
       "model_id": "bf83602fa9d14c01b4e7224cb168c691",
       "version_major": 2,
       "version_minor": 0
      },
      "text/plain": [
       "Loading checkpoint shards:   0%|          | 0/3 [00:00<?, ?it/s]"
      ]
     },
     "metadata": {},
     "output_type": "display_data"
    }
   ],
   "source": [
    "import torch\n",
    "from transformers import AutoTokenizer, AutoModelForCausalLM\n",
    "\n",
    "model_name = \"tokyotech-llm/Swallow-7b-instruct-hf\"\n",
    "tokenizer = AutoTokenizer.from_pretrained(model_name)\n",
    "llm = AutoModelForCausalLM.from_pretrained(model_name)\n",
    "\n",
    "input = \"日本で一番高い山はなんでしょうか？\""
   ]
  },
  {
   "cell_type": "code",
   "execution_count": 4,
   "metadata": {},
   "outputs": [
    {
     "name": "stdout",
     "output_type": "stream",
     "text": [
      "\n",
      "H2Oという言葉があります。水の化学記号です。では、日本で一番低い場所はどこにあるかご存知ですか??\n",
      "答えは東京の海抜-70m付近の地下空間にあります。そこから出てくる空気に含まれる水分量が少なくなるため、空気中の酸素濃度が高くなっています。そのため、このような場所に行くと頭痛がしたり、体調を崩す人もいます。ちなみに世界一深いところはロシアにあり、深さ12,389mの場所にあります。\n",
      "さて、人間は呼吸しないと生きていけませんが、何もしなくても自然界の中で生きることができます。しかし、食べ物を食べなければ死ぬ。植物や動物を食べることでエネルギーを得ることができる。そしてその食物連鎖を支えるものは地球上のあらゆる生命体に必要な水素、炭素、窒素、酸素などを含む水だ。これらは全てH20で表され、地球上の重力バランスを保つ重要な役割を担っている。太陽系全体の質量の約4分の3\n"
     ]
    }
   ],
   "source": [
    "generation_params = {\n",
    "    \"do_sample\": True,\n",
    "    \"temperature\": 0.8,\n",
    "    \"top_p\": 0.95,\n",
    "    \"top_k\": 40,\n",
    "    \"max_new_tokens\": 256,\n",
    "    \"repetition_penalty\": 1.1,\n",
    "}\n",
    "\n",
    "input_ids = tokenizer.encode(input, add_special_tokens=True, return_tensors=\"pt\")\n",
    "output_ids = llm.generate(\n",
    "    input_ids.to(llm.device),\n",
    "    **generation_params\n",
    ")\n",
    "\n",
    "output = tokenizer.decode(\n",
    "    output_ids[0][input_ids.size(1) :],\n",
    "    skip_special_tokens=True\n",
    ")\n",
    "\n",
    "print(output)"
   ]
  }
 ],
 "metadata": {
  "kernelspec": {
   "display_name": ".venv",
   "language": "python",
   "name": "python3"
  },
  "language_info": {
   "codemirror_mode": {
    "name": "ipython",
    "version": 3
   },
   "file_extension": ".py",
   "mimetype": "text/x-python",
   "name": "python",
   "nbconvert_exporter": "python",
   "pygments_lexer": "ipython3",
   "version": "3.10.12"
  }
 },
 "nbformat": 4,
 "nbformat_minor": 2
}
