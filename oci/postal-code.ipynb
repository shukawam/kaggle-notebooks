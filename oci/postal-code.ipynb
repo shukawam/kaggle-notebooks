{
 "cells": [
  {
   "cell_type": "code",
   "execution_count": null,
   "metadata": {},
   "outputs": [],
   "source": [
    "import os\n",
    "from dotenv import load_dotenv\n",
    "\n",
    "from oci.auth.signers import InstancePrincipalsSecurityTokenSigner\n",
    "from oci.generative_ai.generative_ai_client import GenerativeAiClient\n",
    "from oci.generative_ai_inference.generative_ai_inference_client import GenerativeAiInferenceClient\n",
    "from oci.generative_ai_inference.models import (\n",
    "    ChatDetails,\n",
    "    OnDemandServingMode,\n",
    "    CohereChatRequest, \n",
    "    CohereTool, \n",
    "    CohereParameterDefinition,\n",
    "    CohereToolCall,\n",
    "    CohereToolResult\n",
    ")"
   ]
  },
  {
   "cell_type": "code",
   "execution_count": null,
   "metadata": {},
   "outputs": [],
   "source": [
    "load_dotenv()\n",
    "compartment_id = os.getenv(\"COMPARTMENT_ID\")\n",
    "i_endpoint = os.getenv(\"INFERENCE_ENDPOINT\")\n",
    "signer = InstancePrincipalsSecurityTokenSigner()\n",
    "generative_ai_inference_client = GenerativeAiInferenceClient(config = {}, signer = signer, service_endpoint = i_endpoint)"
   ]
  },
  {
   "cell_type": "code",
   "execution_count": null,
   "metadata": {},
   "outputs": [],
   "source": [
    "response = generative_ai_inference_client.chat(\n",
    "    chat_details=ChatDetails(\n",
    "        compartment_id=compartment_id,\n",
    "        serving_mode=OnDemandServingMode(\n",
    "            model_id=\"cohere.command-r-16k\"\n",
    "        ),\n",
    "        chat_request=CohereChatRequest(\n",
    "            message=\"107-0061の郵便番号の住所を教えてください\",\n",
    "            max_tokens=200,\n",
    "        )\n",
    "    )\n",
    ")\n",
    "\n",
    "print(response.data)"
   ]
  },
  {
   "cell_type": "code",
   "execution_count": null,
   "metadata": {},
   "outputs": [],
   "source": [
    "import requests\n",
    "import re\n",
    "\n",
    "def query_address_from_postal_code(postal_code: str) -> dict:\n",
    "    \"\"\"\n",
    "    Function to retrieve the address for the given postal code\n",
    "    \"\"\"\n",
    "    if re.match(\"^[0-9]{3}-[0-9]{4}$\", postal_code):\n",
    "        postal_code = postal_code.replace(\"-\", \"\")\n",
    "    headers = {\"content-type\": \"application/json\"}\n",
    "    response = requests.get(f\"https://jp-postal-code-api.ttskch.com/api/v1/{postal_code}.json\", headers=headers)\n",
    "    data_ja = response.json()[\"addresses\"][0][\"ja\"]\n",
    "    if response.status_code == 200:\n",
    "        return {\n",
    "            \"address\": f\"{data_ja['prefecture']}{data_ja['address1']}{data_ja['address2']}\"\n",
    "        }\n",
    "    else:\n",
    "        return {\n",
    "            \"address\": \"与えられた郵便番号に合致する住所は見つかりませんでした\"\n",
    "        }"
   ]
  },
  {
   "cell_type": "code",
   "execution_count": null,
   "metadata": {},
   "outputs": [],
   "source": [
    "print(query_address_from_postal_code(\"107-0061\"))"
   ]
  },
  {
   "cell_type": "code",
   "execution_count": null,
   "metadata": {},
   "outputs": [],
   "source": [
    "tools = [\n",
    "    CohereTool(\n",
    "        name = \"query_address_from_postal_code\",\n",
    "        description = \"郵便番号を元に住所を検索します\",\n",
    "        parameter_definitions = {\n",
    "            \"postal_code\": CohereParameterDefinition(\n",
    "                description = \"この郵便番号を元に住所を検索します。\",\n",
    "                type = \"str\",\n",
    "                is_required = True\n",
    "            )\n",
    "        }\n",
    "    )\n",
    "]"
   ]
  },
  {
   "cell_type": "code",
   "execution_count": null,
   "metadata": {},
   "outputs": [],
   "source": [
    "response = generative_ai_inference_client.chat(\n",
    "    chat_details=ChatDetails(\n",
    "        compartment_id=compartment_id,\n",
    "        serving_mode=OnDemandServingMode(\n",
    "            model_id=\"cohere.command-r-16k\"\n",
    "        ),\n",
    "        chat_request=CohereChatRequest(\n",
    "            message=\"107-0061の郵便番号の住所を教えてください\",\n",
    "            chat_history=response.data.chat_response.chat_history,\n",
    "            max_tokens=200,\n",
    "            tools=tools\n",
    "        )\n",
    "    )\n",
    ")\n",
    "\n",
    "print(response.data)"
   ]
  },
  {
   "cell_type": "code",
   "execution_count": null,
   "metadata": {},
   "outputs": [],
   "source": [
    "functions_map = {\n",
    "    \"query_address_from_postal_code\": query_address_from_postal_code\n",
    "}"
   ]
  },
  {
   "cell_type": "code",
   "execution_count": null,
   "metadata": {},
   "outputs": [],
   "source": [
    "tool_results = []\n",
    "for tool_call in response.data.chat_response.tool_calls:\n",
    "    output = functions_map[tool_call.name](**tool_call.parameters)\n",
    "    outputs = [output]\n",
    "    tool_results.append(\n",
    "        CohereToolResult(\n",
    "            call=CohereToolCall(\n",
    "                name=tool_call.name,\n",
    "                parameters=tool_call.parameters\n",
    "            ),\n",
    "            outputs=outputs\n",
    "        )\n",
    "    )\n",
    "\n",
    "print(tool_results)"
   ]
  },
  {
   "cell_type": "code",
   "execution_count": null,
   "metadata": {},
   "outputs": [],
   "source": [
    "preamble_override = \"\"\"\n",
    "## タスクとコンテキスト\n",
    "人々の質問やその他のリクエストにインタラクティブに答える手助けをする。あらゆる種類のトピックについて、非常に幅広い質問を受けます。幅広い検索エンジンや類似のツールが用意されており、それらを使って答えを調べます。あなたは、ユーザーのニーズにできる限り応えることに集中すべきです。\n",
    "\n",
    "## スタイルガイド\n",
    "ユーザーから別の回答スタイルを要求されない限り、適切な文法とスペルを使い、完全な文章で回答してください。\n",
    "\"\"\"\n",
    "\n",
    "response = generative_ai_inference_client.chat(\n",
    "    chat_details=ChatDetails(\n",
    "        compartment_id=compartment_id,\n",
    "        serving_mode=OnDemandServingMode(\n",
    "            model_id=\"cohere.command-r-16k\"\n",
    "        ),\n",
    "        chat_request=CohereChatRequest(\n",
    "            message=\"107-0061の住所を教えてください。\",\n",
    "            chat_history=response.data.chat_response.chat_history,\n",
    "            max_tokens=200,\n",
    "            is_force_single_step=True,\n",
    "            tools=tools,\n",
    "            tool_results=tool_results,\n",
    "            preamble_override=preamble_override\n",
    "        )\n",
    "    )\n",
    ")\n",
    "\n",
    "print(response.data.chat_response.text)"
   ]
  }
 ],
 "metadata": {
  "kernelspec": {
   "display_name": ".venv",
   "language": "python",
   "name": "python3"
  },
  "language_info": {
   "codemirror_mode": {
    "name": "ipython",
    "version": 3
   },
   "file_extension": ".py",
   "mimetype": "text/x-python",
   "name": "python",
   "nbconvert_exporter": "python",
   "pygments_lexer": "ipython3",
   "version": "3.11.7"
  }
 },
 "nbformat": 4,
 "nbformat_minor": 2
}
