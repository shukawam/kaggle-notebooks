{
 "cells": [
  {
   "cell_type": "code",
   "execution_count": 8,
   "metadata": {},
   "outputs": [],
   "source": [
    "CAR_DETECTION_CUSTOM_MODEL_OCID = 'ocid1.aivisionmodel.oc1.ap-tokyo-1.amaaaaaassl65iqa7lui2ejwg4hfwwtrfbxosetyfwe3ewgwnmg24o4zpaja'\n",
    "\n",
    "COMPARTMENT_ID = 'ocid1.compartment.oc1..aaaaaaaayatfru3fd6vp6zwjj4vfiy4a5qv7l5dnyrdlnhvjkfaeuz5siyfa'\n",
    "NAMESPACE_NAME = 'orasejapan'\n",
    "BUCKET_NAME = 'car-detection-test-data'\n",
    "INCLUDE_CAR_IMAGE = 'vid_5_400.jpg'\n",
    "EMPTY_CAR_IMAGE = 'vid_5_25100.jpg'"
   ]
  },
  {
   "cell_type": "code",
   "execution_count": 2,
   "metadata": {},
   "outputs": [],
   "source": [
    "import oci\n",
    "\n",
    "config = oci.config.from_file()\n",
    "vision_client = oci.ai_vision.ai_service_vision_client.AIServiceVisionClient(config=config)"
   ]
  },
  {
   "cell_type": "code",
   "execution_count": 9,
   "metadata": {},
   "outputs": [],
   "source": [
    "analyze_image_details = oci.ai_vision.models.AnalyzeImageDetails(\n",
    "    features = [\n",
    "        oci.ai_vision.models.ImageClassificationFeature(\n",
    "            feature_type = 'OBJECT_DETECTION',\n",
    "            model_id = CAR_DETECTION_CUSTOM_MODEL_OCID\n",
    "        )\n",
    "    ],\n",
    "    image = oci.ai_vision.models.ObjectStorageImageDetails(\n",
    "        source = 'OBJECT_STORAGE',\n",
    "        namespace_name = NAMESPACE_NAME,\n",
    "        bucket_name = BUCKET_NAME,\n",
    "        object_name = EMPTY_CAR_IMAGE\n",
    "    ),\n",
    "    compartment_id = COMPARTMENT_ID\n",
    ")"
   ]
  },
  {
   "cell_type": "code",
   "execution_count": 10,
   "metadata": {},
   "outputs": [
    {
     "name": "stdout",
     "output_type": "stream",
     "text": [
      "{\n",
      "  \"errors\": [],\n",
      "  \"image_classification_model_version\": null,\n",
      "  \"image_objects\": null,\n",
      "  \"image_text\": null,\n",
      "  \"labels\": null,\n",
      "  \"object_detection_model_version\": \"version\",\n",
      "  \"ontology_classes\": [],\n",
      "  \"text_detection_model_version\": null\n",
      "}\n"
     ]
    }
   ],
   "source": [
    "analyze_image_result = vision_client.analyze_image(analyze_image_details=analyze_image_details)\n",
    "print(analyze_image_result.data)"
   ]
  }
 ],
 "metadata": {
  "kernelspec": {
   "display_name": "Python 3",
   "language": "python",
   "name": "python3"
  },
  "language_info": {
   "codemirror_mode": {
    "name": "ipython",
    "version": 3
   },
   "file_extension": ".py",
   "mimetype": "text/x-python",
   "name": "python",
   "nbconvert_exporter": "python",
   "pygments_lexer": "ipython3",
   "version": "3.10.12"
  },
  "orig_nbformat": 4
 },
 "nbformat": 4,
 "nbformat_minor": 2
}
