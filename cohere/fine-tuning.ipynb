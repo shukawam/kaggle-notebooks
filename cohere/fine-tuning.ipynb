{
 "cells": [
  {
   "cell_type": "markdown",
   "metadata": {},
   "source": [
    "### Prepare"
   ]
  },
  {
   "cell_type": "code",
   "execution_count": null,
   "metadata": {},
   "outputs": [],
   "source": [
    "import cohere\n",
    "import os\n",
    "from dotenv import load_dotenv\n",
    "\n",
    "load_dotenv()\n",
    "\n",
    "API_KEY = os.getenv('API_KEY') \n",
    "\n",
    "co = cohere.Client(API_KEY)\n",
    "co.check_api_key()\n"
   ]
  },
  {
   "cell_type": "markdown",
   "metadata": {},
   "source": [
    "### Example setup"
   ]
  },
  {
   "cell_type": "code",
   "execution_count": null,
   "metadata": {},
   "outputs": [],
   "source": [
    "prompt = \"What is Autonomous Database?\"\n",
    "\n",
    "response = co.generate(\n",
    "    prompt=prompt,\n",
    "    model=\"base-light\",\n",
    "    max_tokens=500,\n",
    "    temperature=1,\n",
    "    k=0,\n",
    "    p=0.75,\n",
    "    return_likelihoods='ALL'\n",
    ")\n",
    "\n",
    "print(f\"Likelihood: {response.generations[0].likelihood}\")\n",
    "print(f\"generated text: {response.generations[0].text}\")\n"
   ]
  },
  {
   "cell_type": "markdown",
   "metadata": {},
   "source": [
    "### Create custom model - generative"
   ]
  },
  {
   "cell_type": "markdown",
   "metadata": {},
   "source": [
    "#### Scrape data for fine tuning"
   ]
  },
  {
   "cell_type": "code",
   "execution_count": null,
   "metadata": {},
   "outputs": [],
   "source": [
    "from bs4 import BeautifulSoup, element\n",
    "from urllib import request\n",
    "import pandas as pd\n",
    "\n",
    "url = 'https://www.oracle.com/database/technologies/datawarehouse-bigdata/adb-faqs.html'\n",
    "response = request.urlopen(url)\n",
    "soup = BeautifulSoup(response)\n",
    "response.close()\n",
    "\n",
    "df = pd.DataFrame(columns=['prompt', 'completion'])\n",
    "\n",
    "for h4 in soup.find_all('h4'):\n",
    "    prompt = h4\n",
    "    line = []\n",
    "    for n in h4.next_siblings:\n",
    "        if type(n) is element.Tag:\n",
    "            if n.name == 'h4':\n",
    "                completion = (''.join(line)).replace('\\n', '').strip()\n",
    "                qa = pd.DataFrame({'prompt': prompt, 'completion': [completion]})\n",
    "                df = pd.concat([df, qa], ignore_index=True)\n",
    "                break\n",
    "            if n.name == 'p':\n",
    "                for d in n.contents:\n",
    "                    if d.name == 'a':\n",
    "                        line.append(f\"{d.text}<{d.get('href')}>\")\n",
    "                    else:\n",
    "                        line.append(str(d.text))\n",
    "\n",
    "df.head()\n",
    "df.to_csv('./training-data.csv', index=False, header=False)\n"
   ]
  },
  {
   "cell_type": "code",
   "execution_count": null,
   "metadata": {},
   "outputs": [],
   "source": [
    "from cohere.custom_model_dataset import CsvDataset\n",
    "\n",
    "dataset = CsvDataset(train_file=\"./data/training-data.csv\", delimiter=\",\")\n",
    "finetune = co.create_custom_model(name=\"custom-generative-model\", dataset=dataset, model_type=\"GENERATIVE\")\n",
    "\n",
    "print(finetune)\n"
   ]
  },
  {
   "cell_type": "code",
   "execution_count": null,
   "metadata": {},
   "outputs": [],
   "source": [
    "response = co.generate(\n",
    "    prompt=prompt,\n",
    "    model=\"base-light\",\n",
    "    max_tokens=500,\n",
    "    temperature=1,\n",
    "    k=0,\n",
    "    p=0.75,\n",
    "    return_likelihoods='ALL'\n",
    ")\n"
   ]
  }
 ],
 "metadata": {
  "kernelspec": {
   "display_name": ".venv",
   "language": "python",
   "name": "python3"
  },
  "language_info": {
   "codemirror_mode": {
    "name": "ipython",
    "version": 3
   },
   "file_extension": ".py",
   "mimetype": "text/x-python",
   "name": "python",
   "nbconvert_exporter": "python",
   "pygments_lexer": "ipython3",
   "version": "3.11.7"
  }
 },
 "nbformat": 4,
 "nbformat_minor": 2
}
