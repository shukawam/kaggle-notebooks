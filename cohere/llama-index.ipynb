{
 "cells": [
  {
   "cell_type": "markdown",
   "metadata": {},
   "source": [
    "## Setup"
   ]
  },
  {
   "cell_type": "code",
   "execution_count": null,
   "metadata": {},
   "outputs": [],
   "source": [
    "import os\n",
    "from dotenv import load_dotenv\n",
    "from llama_index.llms.cohere import Cohere\n",
    "\n",
    "load_dotenv()\n",
    "api_key = os.getenv(\"API_KEY\")"
   ]
  },
  {
   "cell_type": "markdown",
   "metadata": {},
   "source": [
    "### Call `complete` with a prompt"
   ]
  },
  {
   "cell_type": "code",
   "execution_count": null,
   "metadata": {},
   "outputs": [],
   "source": [
    "llm = Cohere(api_key=api_key)\n",
    "\n",
    "response = llm.complete(\"Paul Graham is\")\n",
    "print(response) # An influential entrepreneur and investor, Paul Graham has significantly shaped the world of computer"
   ]
  },
  {
   "cell_type": "markdown",
   "metadata": {},
   "source": [
    "### Call `chat` with a list of messages"
   ]
  },
  {
   "cell_type": "code",
   "execution_count": null,
   "metadata": {},
   "outputs": [],
   "source": [
    "from llama_index.core.llms import ChatMessage, MessageRole\n",
    "\n",
    "messages = [\n",
    "    ChatMessage(role=MessageRole.USER, content=\"Hello there\"),\n",
    "    ChatMessage(role=MessageRole.ASSISTANT, content=\"Arrrr, matey! How can I help ye today?\"),\n",
    "    ChatMessage(role=MessageRole.USER, content=\"What is your name\")\n",
    "]\n",
    "\n",
    "response = llm.chat(messages=messages)\n",
    "print(response)"
   ]
  },
  {
   "cell_type": "markdown",
   "metadata": {},
   "source": [
    "### Streaming"
   ]
  },
  {
   "cell_type": "code",
   "execution_count": null,
   "metadata": {},
   "outputs": [],
   "source": [
    "# stream_complete\n",
    "response = llm.stream_complete(\"Paul Graham is \")\n",
    "for chunk in response:\n",
    "    print(chunk.delta, end=\"\")"
   ]
  },
  {
   "cell_type": "code",
   "execution_count": null,
   "metadata": {},
   "outputs": [],
   "source": [
    "# stream_chat\n",
    "response = llm.stream_chat(messages=messages)\n",
    "for chunk in response:\n",
    "    print(chunk.delta, end=\"\")"
   ]
  },
  {
   "cell_type": "markdown",
   "metadata": {},
   "source": [
    "### Async"
   ]
  },
  {
   "cell_type": "code",
   "execution_count": null,
   "metadata": {},
   "outputs": [],
   "source": [
    "response = await llm.acomplete(\"Paul Graham is\")\n",
    "print(response)"
   ]
  },
  {
   "cell_type": "code",
   "execution_count": null,
   "metadata": {},
   "outputs": [],
   "source": [
    "from llama_index.embeddings.cohere import CohereEmbedding\n",
    "\n",
    "embeddings = CohereEmbedding(cohere_api_key=api_key)\n",
    "response1 = embeddings.get_query_embedding(\"This is a first document.\")\n",
    "\n",
    "print(response1) # [0.45874023, -1.4619141, 1.0244141, -1.0947266, 1.1396484,"
   ]
  },
  {
   "cell_type": "code",
   "execution_count": null,
   "metadata": {},
   "outputs": [],
   "source": [
    "response2 = embeddings.get_query_embedding(\"This is a first duc\")\n",
    "response3 = embeddings.get_query_embedding(\"Why did you think so?\")\n",
    "\n",
    "similarity1 = embeddings.similarity(response1, response2)\n",
    "similarity2 = embeddings.similarity(response1, response3)\n",
    "\n",
    "print(similarity1)\n",
    "print(similarity2)"
   ]
  }
 ],
 "metadata": {
  "kernelspec": {
   "display_name": ".venv",
   "language": "python",
   "name": "python3"
  },
  "language_info": {
   "codemirror_mode": {
    "name": "ipython",
    "version": 3
   },
   "file_extension": ".py",
   "mimetype": "text/x-python",
   "name": "python",
   "nbconvert_exporter": "python",
   "pygments_lexer": "ipython3",
   "version": "3.11.7"
  }
 },
 "nbformat": 4,
 "nbformat_minor": 2
}
