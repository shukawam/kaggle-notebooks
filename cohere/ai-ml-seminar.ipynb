{
 "cells": [
  {
   "cell_type": "markdown",
   "metadata": {},
   "source": [
    "### Prepare"
   ]
  },
  {
   "cell_type": "code",
   "execution_count": null,
   "metadata": {},
   "outputs": [],
   "source": [
    "import cohere\n",
    "import os\n",
    "from dotenv import load_dotenv\n",
    "\n",
    "load_dotenv()\n",
    "\n",
    "API_KEY = os.getenv('API_KEY')\n",
    "\n",
    "co = cohere.Client(API_KEY)\n",
    "co.check_api_key()\n"
   ]
  },
  {
   "cell_type": "markdown",
   "metadata": {},
   "source": [
    "### Generate"
   ]
  },
  {
   "cell_type": "code",
   "execution_count": null,
   "metadata": {},
   "outputs": [],
   "source": [
    "def generate_text(prompt):\n",
    "    return co.generate(\n",
    "        model = \"command-light-nightly\",\n",
    "        prompt = prompt,\n",
    "        max_tokens = 75,\n",
    "        temperature = 0.4\n",
    "    )\n",
    "\n",
    "print(generate_text(\"Hello World is a program that\"))\n"
   ]
  },
  {
   "cell_type": "markdown",
   "metadata": {},
   "source": [
    "### Chat"
   ]
  },
  {
   "cell_type": "code",
   "execution_count": null,
   "metadata": {},
   "outputs": [],
   "source": [
    "def chat_plane(message, chat_history):\n",
    "    if chat_history != None:\n",
    "        response = co.chat(\n",
    "            message = message,\n",
    "            model = 'command-light-nightly',\n",
    "            chat_history = chat_history,\n",
    "        )\n",
    "    else:\n",
    "        response = co.chat(\n",
    "            message = message,\n",
    "            model = 'command-light-nightly',\n",
    "        )\n",
    "    return response\n",
    "\n",
    "message = \"What is OKE?\"\n",
    "chat_plane(message, None)\n"
   ]
  },
  {
   "cell_type": "code",
   "execution_count": null,
   "metadata": {},
   "outputs": [],
   "source": [
    "connectors = [\n",
    "    {\n",
    "        \"id\": \"web-search\",\n",
    "        \"options\": {\n",
    "            \"site\": \"https://www.oracle.com/cloud/cloud-native/container-engine-kubernetes/\"\n",
    "        }\n",
    "    }\n",
    "]\n",
    "\n",
    "def chat_with_rag(message, chat_history):\n",
    "    if chat_history != None:\n",
    "        response = co.chat(\n",
    "            message = message,\n",
    "            model = 'command-light-nightly',\n",
    "            chat_history = chat_history,\n",
    "            connectors=connectors\n",
    "        )\n",
    "    else:\n",
    "        response = co.chat(\n",
    "            message = message,\n",
    "            model = 'command-light-nightly',\n",
    "            connectors=connectors\n",
    "        )\n",
    "    return response\n",
    "\n",
    "message = \"What is OKE?\"\n",
    "print(chat_with_rag(message, None))\n"
   ]
  },
  {
   "cell_type": "markdown",
   "metadata": {},
   "source": [
    "### Summarize"
   ]
  },
  {
   "cell_type": "code",
   "execution_count": null,
   "metadata": {},
   "outputs": [],
   "source": [
    "def summarize(text):\n",
    "    return co.summarize(\n",
    "        text=text,\n",
    "        model=\"command-light-nightly\"\n",
    "    )\n",
    "\n",
    "text=(\n",
    "  \"Ice cream is a sweetened frozen food typically eaten as a snack or dessert. \"\n",
    "  \"It may be made from milk or cream and is flavoured with a sweetener, \"\n",
    "  \"either sugar or an alternative, and a spice, such as cocoa or vanilla, \"\n",
    "  \"or with fruit such as strawberries or peaches. \"\n",
    "  \"It can also be made by whisking a flavored cream base and liquid nitrogen together. \"\n",
    "  \"Food coloring is sometimes added, in addition to stabilizers. \"\n",
    "  \"The mixture is cooled below the freezing point of water and stirred to incorporate air spaces \"\n",
    "  \"and to prevent detectable ice crystals from forming. The result is a smooth, \"\n",
    "  \"semi-solid foam that is solid at very low temperatures (below 2 °C or 35 °F). \"\n",
    "  \"It becomes more malleable as its temperature increases.\\n\\n\"\n",
    "  \"The meaning of the name \\\"ice cream\\\" varies from one country to another. \"\n",
    "  \"In some countries, such as the United States, \\\"ice cream\\\" applies only to a specific variety, \"\n",
    "  \"and most governments regulate the commercial use of the various terms according to the \"\n",
    "  \"relative quantities of the main ingredients, notably the amount of cream. \"\n",
    "  \"Products that do not meet the criteria to be called ice cream are sometimes labelled \"\n",
    "  \"\\\"frozen dairy dessert\\\" instead. In other countries, such as Italy and Argentina, \"\n",
    "  \"one word is used fo\\r all variants. Analogues made from dairy alternatives, \"\n",
    "  \"such as goat's or sheep's milk, or milk substitutes \"\n",
    "  \"(e.g., soy, cashew, coconut, almond milk or tofu), are available for those who are \"\n",
    "  \"lactose intolerant, allergic to dairy protein or vegan.\"\n",
    ")\n",
    "\n",
    "print(summarize(text))\n"
   ]
  },
  {
   "cell_type": "markdown",
   "metadata": {},
   "source": [
    "### Embeddings"
   ]
  },
  {
   "cell_type": "code",
   "execution_count": null,
   "metadata": {},
   "outputs": [],
   "source": [
    "def get_embeddings(texts):\n",
    "    return co.embed(\n",
    "        texts=texts,\n",
    "        model=\"embed-english-light-v2.0\"\n",
    "    )\n",
    "\n",
    "texts = [\"hello\", \"world\"]\n",
    "print(get_embeddings(texts))\n"
   ]
  },
  {
   "cell_type": "markdown",
   "metadata": {},
   "source": [
    "### Tokenize/Detokenize"
   ]
  },
  {
   "cell_type": "code",
   "execution_count": null,
   "metadata": {},
   "outputs": [],
   "source": [
    "def get_token(text):\n",
    "    return co.tokenize(\n",
    "        text = text,\n",
    "        model = \"command-light-nightly\"\n",
    "    )\n",
    "\n",
    "def get_text_from_token(tokens):\n",
    "    return co.detokenize(\n",
    "        tokens=tokens,\n",
    "        model=\"command-light-nightly\"\n",
    "    )\n",
    "\n",
    "print(\"***** Tokenize *****\")\n",
    "token = get_token(\"tokenize me!\")\n",
    "print(token)\n",
    "\n",
    "print(\"***** Detokenize *****\")\n",
    "print(get_text_from_token(token.tokens))\n"
   ]
  },
  {
   "cell_type": "markdown",
   "metadata": {},
   "source": [
    "### Classify"
   ]
  },
  {
   "cell_type": "code",
   "execution_count": null,
   "metadata": {},
   "outputs": [],
   "source": [
    "from cohere.responses.classify import Example\n",
    "\n",
    "examples=[\n",
    "  Example(\"Dermatologists don't like her!\", \"Spam\"),\n",
    "  Example(\"'Hello, open to this?'\", \"Spam\"),\n",
    "  Example(\"I need help please wire me $1000 right now\", \"Spam\"),\n",
    "  Example(\"Nice to know you ;)\", \"Spam\"),\n",
    "  Example(\"Please help me?\", \"Spam\"),\n",
    "  Example(\"Your parcel will be delivered today\", \"Not spam\"),\n",
    "  Example(\"Review changes to our Terms and Conditions\", \"Not spam\"),\n",
    "  Example(\"Weekly sync notes\", \"Not spam\"),\n",
    "  Example(\"'Re: Follow up from today's meeting'\", \"Not spam\"),\n",
    "  Example(\"Pre-read for tomorrow\", \"Not spam\"),\n",
    "]\n",
    "\n",
    "inputs=[\n",
    "  \"Confirm your email address\",\n",
    "  \"hey i need u to send some $\",\n",
    "]\n",
    "\n",
    "def classify(inputs, examples):\n",
    "    return co.classify(\n",
    "        inputs=inputs,\n",
    "        examples=examples,\n",
    "    )\n",
    "\n",
    "print(classify(inputs, examples))\n"
   ]
  },
  {
   "cell_type": "markdown",
   "metadata": {},
   "source": [
    "### Detect Language"
   ]
  },
  {
   "cell_type": "code",
   "execution_count": null,
   "metadata": {},
   "outputs": [],
   "source": [
    "def detect_language(texts):\n",
    "    return co.detect_language(\n",
    "        texts=texts,\n",
    "    )\n",
    "\n",
    "texts=['Hello world', \"'Здравствуй, Мир'\", 'こんにちは世界', '世界你好', '안녕하세요']\n",
    "\n",
    "print(detect_language(texts))\n"
   ]
  },
  {
   "cell_type": "markdown",
   "metadata": {},
   "source": [
    "### Rerank"
   ]
  },
  {
   "cell_type": "code",
   "execution_count": null,
   "metadata": {},
   "outputs": [],
   "source": [
    "docs = [\n",
    "    'Carson City is the capital city of the American state of Nevada.',\n",
    "    'The Commonwealth of the Northern Mariana Islands is a group of islands in the Pacific Ocean. Its capital is Saipan.',\n",
    "    'Washington, D.C. (also known as simply Washington or D.C., and officially as the District of Columbia) is the capital of the United States. It is a federal district.',\n",
    "    'Capital punishment (the death penalty) has existed in the United States since beforethe United States was a country. As of 2017, capital punishment is legal in 30 of the 50 states.'\n",
    "]\n",
    "\n",
    "co_rerank = co.rerank(\n",
    "    model='rerank-english-v2.0',\n",
    "    query='What is the capital of the United States?',\n",
    "    documents=docs\n",
    ")\n",
    "\n",
    "print(co_rerank)\n"
   ]
  }
 ],
 "metadata": {
  "kernelspec": {
   "display_name": ".venv",
   "language": "python",
   "name": "python3"
  },
  "language_info": {
   "codemirror_mode": {
    "name": "ipython",
    "version": 3
   },
   "file_extension": ".py",
   "mimetype": "text/x-python",
   "name": "python",
   "nbconvert_exporter": "python",
   "pygments_lexer": "ipython3",
   "version": "3.10.12"
  },
  "orig_nbformat": 4
 },
 "nbformat": 4,
 "nbformat_minor": 2
}
