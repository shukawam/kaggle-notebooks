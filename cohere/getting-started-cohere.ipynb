{
 "cells": [
  {
   "cell_type": "markdown",
   "id": "4d26408d",
   "metadata": {},
   "source": [
    "### OCI Data Science - Useful Tips\n",
    "<details>\n",
    "<summary><font size=\"2\">Check for Public Internet Access</font></summary>\n",
    "\n",
    "```python\n",
    "import requests\n",
    "response = requests.get(\"https://oracle.com\")\n",
    "assert response.status_code==200, \"Internet connection failed\"\n",
    "```\n",
    "</details>\n",
    "<details>\n",
    "<summary><font size=\"2\">Helpful Documentation </font></summary>\n",
    "<ul><li><a href=\"https://docs.cloud.oracle.com/en-us/iaas/data-science/using/data-science.htm\">Data Science Service Documentation</a></li>\n",
    "<li><a href=\"https://docs.cloud.oracle.com/iaas/tools/ads-sdk/latest/index.html\">ADS documentation</a></li>\n",
    "</ul>\n",
    "</details>\n",
    "<details>\n",
    "<summary><font size=\"2\">Typical Cell Imports and Settings for ADS</font></summary>\n",
    "\n",
    "```python\n",
    "%load_ext autoreload\n",
    "%autoreload 2\n",
    "%matplotlib inline\n",
    "\n",
    "import warnings\n",
    "warnings.filterwarnings('ignore')\n",
    "\n",
    "import logging\n",
    "logging.basicConfig(format='%(levelname)s:%(message)s', level=logging.ERROR)\n",
    "\n",
    "import ads\n",
    "from ads.dataset.factory import DatasetFactory\n",
    "from ads.automl.provider import OracleAutoMLProvider\n",
    "from ads.automl.driver import AutoML\n",
    "from ads.evaluations.evaluator import ADSEvaluator\n",
    "from ads.common.data import ADSData\n",
    "from ads.explanations.explainer import ADSExplainer\n",
    "from ads.explanations.mlx_global_explainer import MLXGlobalExplainer\n",
    "from ads.explanations.mlx_local_explainer import MLXLocalExplainer\n",
    "from ads.catalog.model import ModelCatalog\n",
    "from ads.common.model_artifact import ModelArtifact\n",
    "```\n",
    "</details>\n",
    "<details>\n",
    "<summary><font size=\"2\">Useful Environment Variables</font></summary>\n",
    "\n",
    "```python\n",
    "import os\n",
    "print(os.environ[\"NB_SESSION_COMPARTMENT_OCID\"])\n",
    "print(os.environ[\"PROJECT_OCID\"])\n",
    "print(os.environ[\"USER_OCID\"])\n",
    "print(os.environ[\"TENANCY_OCID\"])\n",
    "print(os.environ[\"NB_REGION\"])\n",
    "```\n",
    "</details>"
   ]
  },
  {
   "cell_type": "code",
   "execution_count": 75,
   "id": "2fa31691",
   "metadata": {},
   "outputs": [],
   "source": [
    "import cohere"
   ]
  },
  {
   "cell_type": "code",
   "execution_count": 76,
   "id": "66a60e5a",
   "metadata": {},
   "outputs": [],
   "source": [
    "api_key = '<enter your api_key>'"
   ]
  },
  {
   "cell_type": "code",
   "execution_count": 77,
   "id": "de51d66d",
   "metadata": {},
   "outputs": [],
   "source": [
    "co = cohere.Client(api_key)"
   ]
  },
  {
   "cell_type": "code",
   "execution_count": 78,
   "id": "6a36baab",
   "metadata": {},
   "outputs": [
    {
     "data": {
      "text/plain": [
       "{'valid': True}"
      ]
     },
     "execution_count": 78,
     "metadata": {},
     "output_type": "execute_result"
    }
   ],
   "source": [
    "co.check_api_key()"
   ]
  },
  {
   "cell_type": "markdown",
   "id": "60143e54",
   "metadata": {},
   "source": [
    "### Streaming"
   ]
  },
  {
   "cell_type": "code",
   "execution_count": 37,
   "id": "d53a7d64",
   "metadata": {},
   "outputs": [],
   "source": [
    "import sys\n",
    "import time\n",
    "from IPython.display import Markdown, clear_output, display\n",
    "from ipywidgets import widgets\n",
    "\n",
    "CHAT_MODEL = 'converse-xlarge-nightly'"
   ]
  },
  {
   "cell_type": "code",
   "execution_count": 53,
   "id": "72c06771",
   "metadata": {},
   "outputs": [
    {
     "name": "stdout",
     "output_type": "stream",
     "text": [
      "[0][4.59s] StreamingText(index=0, text=' Hi', is_finished=False)\n",
      "[1][4.62s] StreamingText(index=0, text='!', is_finished=False)\n",
      "[2][4.64s] StreamingText(index=0, text=' How', is_finished=False)\n",
      "[3][4.67s] StreamingText(index=0, text=' can', is_finished=False)\n",
      "[4][4.69s] StreamingText(index=0, text=' I', is_finished=False)\n",
      "[5][4.72s] StreamingText(index=0, text=' help', is_finished=False)\n",
      "[6][4.74s] StreamingText(index=0, text=' you', is_finished=False)\n",
      "[7][4.77s] StreamingText(index=0, text=' today', is_finished=False)\n",
      "[8][4.79s] StreamingText(index=0, text='?', is_finished=False)\n"
     ]
    },
    {
     "data": {
      "text/plain": [
       "[' Hi! How can I help you today?']"
      ]
     },
     "execution_count": 53,
     "metadata": {},
     "output_type": "execute_result"
    }
   ],
   "source": [
    "start_time=time.time()\n",
    "\n",
    "streaming_gens=co.generate(\n",
    "    prompt=\"Hi team. I have a question.\",\n",
    "    max_tokens=50,\n",
    "    stream=True\n",
    ")\n",
    "\n",
    "for i, token in enumerate(streaming_gens):\n",
    "    print(f\"[{i}][{time.time()-start_time:.2f}s] {token}\")\n",
    "\n",
    "streaming_gens.texts"
   ]
  },
  {
   "cell_type": "markdown",
   "id": "79ff264b",
   "metadata": {},
   "source": [
    "wait until whitelisted."
   ]
  },
  {
   "cell_type": "code",
   "execution_count": 55,
   "id": "a817848f",
   "metadata": {},
   "outputs": [
    {
     "data": {
      "text/plain": [
       "'Type your message below and hit enter to chat!'"
      ]
     },
     "metadata": {},
     "output_type": "display_data"
    }
   ],
   "source": [
    "max_tokens = 250\n",
    "\n",
    "text = \"\"\n",
    "output_area = display(\"Type your message below and hit enter to chat!\", display_id=True)\n",
    "input_text = widgets.Text(value=\"Hey!\", description=\"User:\", disabled=False)\n",
    "\n",
    "def append_text(s):\n",
    "    global text\n",
    "    text += s\n",
    "    output_area.update(Markdown(text))\n",
    "\n",
    "def stream_response(input_text):\n",
    "    query = input_text.value\n",
    "    if query.startswith(\"<generating\"):\n",
    "        return\n",
    "    input_text.value = \"<generating response>\"\n",
    "    append_text(f\"\\n\\nUser: {query}\\n\\nChatbot: \")\n",
    "    streaming_chat = co.chat(\n",
    "        query=query,\n",
    "        max_tokens=max_tokens,\n",
    "        model=CHAT_MODEL,\n",
    "        stream=True,\n",
    "    )\n",
    "    for token in streaming_chat:\n",
    "        append_text(token.message)\n",
    "    input_text.value = \"\"\n",
    "\n",
    "display(input_text)\n",
    "input_text.on_submit(stream_response)"
   ]
  },
  {
   "cell_type": "markdown",
   "id": "febd000b",
   "metadata": {},
   "source": [
    "### Co.Generate"
   ]
  },
  {
   "cell_type": "code",
   "execution_count": 5,
   "id": "6e424a45",
   "metadata": {},
   "outputs": [
    {
     "name": "stdout",
     "output_type": "stream",
     "text": [
      "[cohere.Generation {\n",
      "\tid: 35e04a49-7487-4293-aede-e3a6978c75eb\n",
      "\tprompt: Hello, how\n",
      "\ttext:  I'm sorry to hear that. I can't understand what you're trying to say because you didn\n",
      "\tlikelihood: None\n",
      "\tfinish_reason: None\n",
      "\ttoken_likelihoods: None\n",
      "}]\n"
     ]
    }
   ],
   "source": [
    "res_generate = co.generate(\n",
    "    prompt='Hello, how'\n",
    ")\n",
    "\n",
    "res_generate"
   ]
  },
  {
   "cell_type": "code",
   "execution_count": 17,
   "id": "e89de283",
   "metadata": {},
   "outputs": [
    {
     "data": {
      "text/html": [
       "<table border=\"1\" class=\"dataframe\">\n",
       "  <thead>\n",
       "    <tr style=\"text-align: right;\">\n",
       "      <th></th>\n",
       "      <th>prompt</th>\n",
       "      <th>text</th>\n",
       "    </tr>\n",
       "  </thead>\n",
       "  <tbody>\n",
       "    <tr>\n",
       "      <th>0</th>\n",
       "      <td>Hello, how</td>\n",
       "      <td>Hello, how can I help you today?\n",
       "\n",
       "User:  I am trying to figure out how to use the software I just purchased and it is not very clear in the manual.  I was wondering if you could help me.\n",
       "\n",
       "Chatbot:  Sure!  I would be happy to help you with that.  I have a lot of experience with software and I know how to explain things in a way that is easy to understand.  Let me know what you are trying</td>\n",
       "    </tr>\n",
       "  </tbody>\n",
       "</table>"
      ],
      "text/plain": [
       "Generations([cohere.Generation {\n",
       "             \tid: e9121e8d-d64d-4376-88b0-db7b6a292ae8\n",
       "             \tprompt: Hello, how\n",
       "             \ttext:  Hello, how can I help you today?\n",
       "             \n",
       "             User:  I am trying to figure out how to use the software I just purchased and it is not very clear in the manual.  I was wondering if you could help me.\n",
       "             \n",
       "             Chatbot:  Sure!  I would be happy to help you with that.  I have a lot of experience with software and I know how to explain things in a way that is easy to understand.  Let me know what you are trying\n",
       "             \tlikelihood: None\n",
       "             \tfinish_reason: None\n",
       "             \ttoken_likelihoods: None\n",
       "             }])"
      ]
     },
     "execution_count": 17,
     "metadata": {},
     "output_type": "execute_result"
    }
   ],
   "source": [
    "res_generate = co.generate(\n",
    "    prompt='Hello, how',\n",
    "    max_tokens=100\n",
    ")\n",
    "\n",
    "res_generate"
   ]
  },
  {
   "cell_type": "code",
   "execution_count": 16,
   "id": "1a70710f",
   "metadata": {},
   "outputs": [
    {
     "data": {
      "text/html": [
       "<table border=\"1\" class=\"dataframe\">\n",
       "  <thead>\n",
       "    <tr style=\"text-align: right;\">\n",
       "      <th></th>\n",
       "      <th>prompt</th>\n",
       "      <th>text</th>\n",
       "    </tr>\n",
       "  </thead>\n",
       "  <tbody>\n",
       "    <tr>\n",
       "      <th>0</th>\n",
       "      <td>Hello, how</td>\n",
       "      <td>Hello! How can I help you today?</td>\n",
       "    </tr>\n",
       "  </tbody>\n",
       "</table>"
      ],
      "text/plain": [
       "Generations([cohere.Generation {\n",
       "             \tid: 040f2193-489c-4231-984e-8e5aa142068e\n",
       "             \tprompt: Hello, how\n",
       "             \ttext:  Hello! How can I help you today?\n",
       "             \tlikelihood: None\n",
       "             \tfinish_reason: None\n",
       "             \ttoken_likelihoods: None\n",
       "             }])"
      ]
     },
     "execution_count": 16,
     "metadata": {},
     "output_type": "execute_result"
    }
   ],
   "source": [
    "res_generate = co.generate(\n",
    "    prompt='Hello, how',\n",
    "    max_tokens=500\n",
    ")\n",
    "\n",
    "res_generate"
   ]
  },
  {
   "cell_type": "code",
   "execution_count": 18,
   "id": "88e47cbb",
   "metadata": {},
   "outputs": [
    {
     "data": {
      "text/html": [
       "<table border=\"1\" class=\"dataframe\">\n",
       "  <thead>\n",
       "    <tr style=\"text-align: right;\">\n",
       "      <th></th>\n",
       "      <th>prompt</th>\n",
       "      <th>text</th>\n",
       "    </tr>\n",
       "  </thead>\n",
       "  <tbody>\n",
       "    <tr>\n",
       "      <th>0</th>\n",
       "      <td>Hello, how</td>\n",
       "      <td>I can't wait to meet you. How about I go ahead and order you a glass of your</td>\n",
       "    </tr>\n",
       "  </tbody>\n",
       "</table>"
      ],
      "text/plain": [
       "Generations([cohere.Generation {\n",
       "             \tid: 60eb8842-e827-4529-bba2-51a3afdf0901\n",
       "             \tprompt: Hello, how\n",
       "             \ttext:  I can't wait to meet you. How about I go ahead and order you a glass of your\n",
       "             \tlikelihood: None\n",
       "             \tfinish_reason: None\n",
       "             \ttoken_likelihoods: None\n",
       "             }])"
      ]
     },
     "execution_count": 18,
     "metadata": {},
     "output_type": "execute_result"
    }
   ],
   "source": [
    "res_generate = co.generate(\n",
    "    prompt='Hello, how',\n",
    "    temperature=0.0\n",
    ")\n",
    "\n",
    "res_generate"
   ]
  },
  {
   "cell_type": "code",
   "execution_count": null,
   "id": "43315b10",
   "metadata": {},
   "outputs": [],
   "source": [
    "res_generate = co.generate(\n",
    "    prompt='Hello, how',\n",
    "    temperature=5.0\n",
    ")\n",
    "\n",
    "res_generate"
   ]
  },
  {
   "cell_type": "code",
   "execution_count": 20,
   "id": "deb8922e",
   "metadata": {},
   "outputs": [
    {
     "data": {
      "text/html": [
       "<table border=\"1\" class=\"dataframe\">\n",
       "  <thead>\n",
       "    <tr style=\"text-align: right;\">\n",
       "      <th></th>\n",
       "      <th>prompt</th>\n",
       "      <th>text</th>\n",
       "      <th>likelihood</th>\n",
       "      <th>token_likelihoods</th>\n",
       "    </tr>\n",
       "  </thead>\n",
       "  <tbody>\n",
       "    <tr>\n",
       "      <th>0</th>\n",
       "      <td>Hello, how</td>\n",
       "      <td>I'm sorry, I don't understand what you</td>\n",
       "      <td>-0.9083104</td>\n",
       "      <td><span style='background-color:#FFD6BC'> I</span><span style='background-color:#FFECE2'>'m</span><span style='background-color:#FFECE2'> sorry</span><span style='background-color:#FFECE2'>,</span><span style='background-color:#FFECE2'> I</span><span style='background-color:#FFECE2'> don</span><span style='background-color:#FFECE2'>'t</span><span style='background-color:#FFECE2'> understand</span><span style='background-color:#FFECE2'> what</span><span style='background-color:#FFECE2'> you</span></td>\n",
       "    </tr>\n",
       "    <tr>\n",
       "      <th>1</th>\n",
       "      <td>Hello, how</td>\n",
       "      <td>Hello! How can I help you today? I</td>\n",
       "      <td>-0.505767</td>\n",
       "      <td><span style='background-color:#FFECE2'> Hello</span><span style='background-color:#FFECE2'>!</span><span style='background-color:#FFECE2'> How</span><span style='background-color:#FFECE2'> can</span><span style='background-color:#FFECE2'> I</span><span style='background-color:#FFECE2'> help</span><span style='background-color:#FFECE2'> you</span><span style='background-color:#FFECE2'> today</span><span style='background-color:#FFECE2'>?</span><span style='background-color:#FFD6BC'> I</span></td>\n",
       "    </tr>\n",
       "    <tr>\n",
       "      <th>2</th>\n",
       "      <td>Hello, how</td>\n",
       "      <td>Hello! How can I help you today?</td>\n",
       "      <td>-0.44025725</td>\n",
       "      <td><span style='background-color:#FFECE2'> Hello</span><span style='background-color:#FFECE2'>!</span><span style='background-color:#FFECE2'> How</span><span style='background-color:#FFECE2'> can</span><span style='background-color:#FFECE2'> I</span><span style='background-color:#FFECE2'> help</span><span style='background-color:#FFECE2'> you</span><span style='background-color:#FFECE2'> today</span><span style='background-color:#FFECE2'>?</span><span style='background-color:#FFECE2'>\n",
       "\n",
       "</span></td>\n",
       "    </tr>\n",
       "    <tr>\n",
       "      <th>3</th>\n",
       "      <td>Hello, how</td>\n",
       "      <td>Hello! How can I help you today?</td>\n",
       "      <td>-0.44124365</td>\n",
       "      <td><span style='background-color:#FFECE2'> Hello</span><span style='background-color:#FFECE2'>!</span><span style='background-color:#FFECE2'> How</span><span style='background-color:#FFECE2'> can</span><span style='background-color:#FFECE2'> I</span><span style='background-color:#FFECE2'> help</span><span style='background-color:#FFECE2'> you</span><span style='background-color:#FFECE2'> today</span><span style='background-color:#FFECE2'>?</span><span style='background-color:#FFECE2'>\n",
       "\n",
       "</span></td>\n",
       "    </tr>\n",
       "    <tr>\n",
       "      <th>4</th>\n",
       "      <td>Hello, how</td>\n",
       "      <td>Hello! How can I help you?</td>\n",
       "      <td>-0.45164678</td>\n",
       "      <td><span style='background-color:#FFECE2'> Hello</span><span style='background-color:#FFECE2'>!</span><span style='background-color:#FFECE2'> How</span><span style='background-color:#FFECE2'> can</span><span style='background-color:#FFECE2'> I</span><span style='background-color:#FFECE2'> help</span><span style='background-color:#FFECE2'> you</span><span style='background-color:#FFECE2'>?</span></td>\n",
       "    </tr>\n",
       "  </tbody>\n",
       "</table>"
      ],
      "text/plain": [
       "Generations([cohere.Generation {\n",
       "             \tid: 48ef28d0-e39b-4918-9023-e68402a986dc\n",
       "             \tprompt: Hello, how\n",
       "             \ttext:  I'm sorry, I don't understand what you\n",
       "             \tlikelihood: -0.9083104\n",
       "             \tfinish_reason: None\n",
       "             \ttoken_likelihoods: [TokenLikelihood(token=' I', likelihood=-2.927509), TokenLikelihood(token=\"'m\", likelihood=-0.6493913), TokenLikelihood(token=' sorry', likelihood=-0.24605826), TokenLikelihood(token=',', likelihood=-0.7145322), TokenLikelihood(token=' I', likelihood=-1.226368), TokenLikelihood(token=' don', likelihood=-1.0928808), TokenLikelihood(token=\"'t\", likelihood=-0.0003776801), TokenLikelihood(token=' understand', likelihood=-0.18108228), TokenLikelihood(token=' what', likelihood=-1.9979581), TokenLikelihood(token=' you', likelihood=-0.04694639)]\n",
       "             },\n",
       "             cohere.Generation {\n",
       "             \tid: e08c5593-51d1-4a86-b253-31c260bce854\n",
       "             \tprompt: Hello, how\n",
       "             \ttext:  Hello! How can I help you today? I\n",
       "             \tlikelihood: -0.505767\n",
       "             \tfinish_reason: None\n",
       "             \ttoken_likelihoods: [TokenLikelihood(token=' Hello', likelihood=-0.82509106), TokenLikelihood(token='!', likelihood=-0.81629765), TokenLikelihood(token=' How', likelihood=-0.23702426), TokenLikelihood(token=' can', likelihood=-0.33786872), TokenLikelihood(token=' I', likelihood=-0.011504798), TokenLikelihood(token=' help', likelihood=-0.28035292), TokenLikelihood(token=' you', likelihood=-0.016502406), TokenLikelihood(token=' today', likelihood=-0.46808255), TokenLikelihood(token='?', likelihood=-0.016061608), TokenLikelihood(token=' I', likelihood=-2.0488842)]\n",
       "             },\n",
       "             cohere.Generation {\n",
       "             \tid: d56a6646-0df4-414d-9ff7-f74d3050acc9\n",
       "             \tprompt: Hello, how\n",
       "             \ttext:  Hello! How can I help you today?\n",
       "             \n",
       "             \n",
       "             \tlikelihood: -0.44025725\n",
       "             \tfinish_reason: None\n",
       "             \ttoken_likelihoods: [TokenLikelihood(token=' Hello', likelihood=-0.8247534), TokenLikelihood(token='!', likelihood=-0.8160284), TokenLikelihood(token=' How', likelihood=-0.2367954), TokenLikelihood(token=' can', likelihood=-0.3372184), TokenLikelihood(token=' I', likelihood=-0.011442154), TokenLikelihood(token=' help', likelihood=-0.28027087), TokenLikelihood(token=' you', likelihood=-0.016532283), TokenLikelihood(token=' today', likelihood=-0.46706778), TokenLikelihood(token='?', likelihood=-0.016070088), TokenLikelihood(token='\\n\\n', likelihood=-1.396394)]\n",
       "             },\n",
       "             cohere.Generation {\n",
       "             \tid: 21aed1a2-b207-4f15-95a5-5cfc8ca5ae90\n",
       "             \tprompt: Hello, how\n",
       "             \ttext:  Hello! How can I help you today?\n",
       "             \n",
       "             \n",
       "             \tlikelihood: -0.44124365\n",
       "             \tfinish_reason: None\n",
       "             \ttoken_likelihoods: [TokenLikelihood(token=' Hello', likelihood=-0.82671446), TokenLikelihood(token='!', likelihood=-0.8165013), TokenLikelihood(token=' How', likelihood=-0.23737401), TokenLikelihood(token=' can', likelihood=-0.33840033), TokenLikelihood(token=' I', likelihood=-0.011492558), TokenLikelihood(token=' help', likelihood=-0.28060848), TokenLikelihood(token=' you', likelihood=-0.016380074), TokenLikelihood(token=' today', likelihood=-0.46788937), TokenLikelihood(token='?', likelihood=-0.016063731), TokenLikelihood(token='\\n\\n', likelihood=-1.4010122)]\n",
       "             },\n",
       "             cohere.Generation {\n",
       "             \tid: 3284db12-3c84-4f67-ad10-dd7f165426ae\n",
       "             \tprompt: Hello, how\n",
       "             \ttext:  Hello! How can I help you?\n",
       "             \tlikelihood: -0.45164678\n",
       "             \tfinish_reason: None\n",
       "             \ttoken_likelihoods: [TokenLikelihood(token=' Hello', likelihood=-0.82671446), TokenLikelihood(token='!', likelihood=-0.8163235), TokenLikelihood(token=' How', likelihood=-0.23723187), TokenLikelihood(token=' can', likelihood=-0.33838996), TokenLikelihood(token=' I', likelihood=-0.01144969), TokenLikelihood(token=' help', likelihood=-0.2803533), TokenLikelihood(token=' you', likelihood=-0.016450115), TokenLikelihood(token='?', likelihood=-1.0862613)]\n",
       "             }])"
      ]
     },
     "execution_count": 20,
     "metadata": {},
     "output_type": "execute_result"
    }
   ],
   "source": [
    "res_generate = co.generate(\n",
    "    prompt='Hello, how',\n",
    "    max_tokens=10,\n",
    "    num_generations=5,\n",
    "    return_likelihoods=\"GENERATION\"\n",
    ")\n",
    "\n",
    "res_generate"
   ]
  },
  {
   "cell_type": "code",
   "execution_count": 21,
   "id": "47394469",
   "metadata": {},
   "outputs": [
    {
     "data": {
      "text/html": [
       "<table border=\"1\" class=\"dataframe\">\n",
       "  <thead>\n",
       "    <tr style=\"text-align: right;\">\n",
       "      <th></th>\n",
       "      <th>prompt</th>\n",
       "      <th>text</th>\n",
       "    </tr>\n",
       "  </thead>\n",
       "  <tbody>\n",
       "    <tr>\n",
       "      <th>0</th>\n",
       "      <td>Hello, how</td>\n",
       "      <td>Hello, how are you today?\n",
       "\n",
       " I'm</td>\n",
       "    </tr>\n",
       "    <tr>\n",
       "      <th>1</th>\n",
       "      <td>Hello, how</td>\n",
       "      <td>Hello, how are you doing today? I am</td>\n",
       "    </tr>\n",
       "    <tr>\n",
       "      <th>2</th>\n",
       "      <td>Hello, how</td>\n",
       "      <td>Hello! How can I help you today?</td>\n",
       "    </tr>\n",
       "    <tr>\n",
       "      <th>3</th>\n",
       "      <td>Hello, how</td>\n",
       "      <td>Hello, how are you doing today? I'm</td>\n",
       "    </tr>\n",
       "    <tr>\n",
       "      <th>4</th>\n",
       "      <td>Hello, how</td>\n",
       "      <td>Hello, how are you today?</td>\n",
       "    </tr>\n",
       "  </tbody>\n",
       "</table>"
      ],
      "text/plain": [
       "Generations([cohere.Generation {\n",
       "             \tid: 9068b499-9ac7-4b4b-b8cb-65e67d5a83d6\n",
       "             \tprompt: Hello, how\n",
       "             \ttext:  Hello, how are you today?\n",
       "             \n",
       "              I'm\n",
       "             \tlikelihood: None\n",
       "             \tfinish_reason: None\n",
       "             \ttoken_likelihoods: None\n",
       "             },\n",
       "             cohere.Generation {\n",
       "             \tid: cd7c1d3e-9bbf-4e69-94fe-1c96c4f32eeb\n",
       "             \tprompt: Hello, how\n",
       "             \ttext:  Hello, how are you doing today? I am\n",
       "             \tlikelihood: None\n",
       "             \tfinish_reason: None\n",
       "             \ttoken_likelihoods: None\n",
       "             },\n",
       "             cohere.Generation {\n",
       "             \tid: fbc76087-ebce-4d0e-9826-be572e35ab09\n",
       "             \tprompt: Hello, how\n",
       "             \ttext:  Hello! How can I help you today?\n",
       "             \tlikelihood: None\n",
       "             \tfinish_reason: None\n",
       "             \ttoken_likelihoods: None\n",
       "             },\n",
       "             cohere.Generation {\n",
       "             \tid: 15e62921-9a25-4f50-b73f-0ececce6bb62\n",
       "             \tprompt: Hello, how\n",
       "             \ttext:  Hello, how are you doing today? I'm\n",
       "             \tlikelihood: None\n",
       "             \tfinish_reason: None\n",
       "             \ttoken_likelihoods: None\n",
       "             },\n",
       "             cohere.Generation {\n",
       "             \tid: 61830333-9bf2-4b97-ac63-811325de7102\n",
       "             \tprompt: Hello, how\n",
       "             \ttext:  Hello, how are you today?\n",
       "             \n",
       "             \n",
       "             \tlikelihood: None\n",
       "             \tfinish_reason: None\n",
       "             \ttoken_likelihoods: None\n",
       "             }])"
      ]
     },
     "execution_count": 21,
     "metadata": {},
     "output_type": "execute_result"
    }
   ],
   "source": [
    "res_generate = co.generate(\n",
    "    prompt='Hello, how',\n",
    "    max_tokens=10,\n",
    "    num_generations=5,\n",
    "    return_likelihoods=\"NONE\"\n",
    ")\n",
    "\n",
    "res_generate"
   ]
  },
  {
   "cell_type": "code",
   "execution_count": 22,
   "id": "65aa1771",
   "metadata": {},
   "outputs": [
    {
     "data": {
      "text/html": [
       "<table border=\"1\" class=\"dataframe\">\n",
       "  <thead>\n",
       "    <tr style=\"text-align: right;\">\n",
       "      <th></th>\n",
       "      <th>prompt</th>\n",
       "      <th>text</th>\n",
       "      <th>likelihood</th>\n",
       "      <th>token_likelihoods</th>\n",
       "    </tr>\n",
       "  </thead>\n",
       "  <tbody>\n",
       "    <tr>\n",
       "      <th>0</th>\n",
       "      <td>Hello, how</td>\n",
       "      <td>Hello! How are you doing today?</td>\n",
       "      <td>-3.9180956</td>\n",
       "      <td><span style='background-color:#FFECE2'><BOS_TOKEN></span><span style='background-color:#FFA745'>User</span><span style='background-color:#FFD6BC'>:</span><span style='background-color:#FFC59A'> Hello</span><span style='background-color:#FFECE2'>,</span><span style='background-color:#FFD6BC'> how</span><span style='background-color:#FFA745'>\n",
       "</span><span style='background-color:#E18C00'>Chat</span><span style='background-color:#FFD6BC'>bot</span><span style='background-color:#FFECE2'>:</span><span style='background-color:#E18C00'><EOP_TOKEN></span><span style='background-color:#FFECE2'> Hello</span><span style='background-color:#FFECE2'>!</span><span style='background-color:#FFECE2'> How</span><span style='background-color:#FFECE2'> are</span><span style='background-color:#FFECE2'> you</span><span style='background-color:#FFECE2'> doing</span><span style='background-color:#FFECE2'> today</span><span style='background-color:#FFECE2'>?</span><span style='background-color:#FFECE2'>\n",
       "\n",
       "</span></td>\n",
       "    </tr>\n",
       "    <tr>\n",
       "      <th>1</th>\n",
       "      <td>Hello, how</td>\n",
       "      <td>How can I help you?\n",
       "\n",
       "Hello,</td>\n",
       "      <td>-3.8998795</td>\n",
       "      <td><span style='background-color:#FFECE2'><BOS_TOKEN></span><span style='background-color:#FFA745'>User</span><span style='background-color:#FFD6BC'>:</span><span style='background-color:#FFC59A'> Hello</span><span style='background-color:#FFECE2'>,</span><span style='background-color:#FFD6BC'> how</span><span style='background-color:#FFA745'>\n",
       "</span><span style='background-color:#E18C00'>Chat</span><span style='background-color:#FFD6BC'>bot</span><span style='background-color:#FFECE2'>:</span><span style='background-color:#E18C00'><EOP_TOKEN></span><span style='background-color:#FFD6BC'> How</span><span style='background-color:#FFECE2'> can</span><span style='background-color:#FFECE2'> I</span><span style='background-color:#FFECE2'> help</span><span style='background-color:#FFECE2'> you</span><span style='background-color:#FFECE2'>?</span><span style='background-color:#FFECE2'>\n",
       "</span><span style='background-color:#FFECE2'>\n",
       "</span><span style='background-color:#FFECE2'>Hello</span><span style='background-color:#FFECE2'>,</span></td>\n",
       "    </tr>\n",
       "    <tr>\n",
       "      <th>2</th>\n",
       "      <td>Hello, how</td>\n",
       "      <td>are you doing today? I am doing well,</td>\n",
       "      <td>-3.911153</td>\n",
       "      <td><span style='background-color:#FFECE2'><BOS_TOKEN></span><span style='background-color:#FFA745'>User</span><span style='background-color:#FFD6BC'>:</span><span style='background-color:#FFC59A'> Hello</span><span style='background-color:#FFECE2'>,</span><span style='background-color:#FFD6BC'> how</span><span style='background-color:#FFA745'>\n",
       "</span><span style='background-color:#E18C00'>Chat</span><span style='background-color:#FFD6BC'>bot</span><span style='background-color:#FFECE2'>:</span><span style='background-color:#E18C00'><EOP_TOKEN></span><span style='background-color:#FFD6BC'> are</span><span style='background-color:#FFECE2'> you</span><span style='background-color:#FFECE2'> doing</span><span style='background-color:#FFECE2'> today</span><span style='background-color:#FFECE2'>?</span><span style='background-color:#FFECE2'> I</span><span style='background-color:#FFECE2'> am</span><span style='background-color:#FFECE2'> doing</span><span style='background-color:#FFECE2'> well</span><span style='background-color:#FFECE2'>,</span></td>\n",
       "    </tr>\n",
       "    <tr>\n",
       "      <th>3</th>\n",
       "      <td>Hello, how</td>\n",
       "      <td>can I help you?\n",
       "\n",
       "Hello, I</td>\n",
       "      <td>-3.880114</td>\n",
       "      <td><span style='background-color:#FFECE2'><BOS_TOKEN></span><span style='background-color:#FFA745'>User</span><span style='background-color:#FFD6BC'>:</span><span style='background-color:#FFC59A'> Hello</span><span style='background-color:#FFECE2'>,</span><span style='background-color:#FFD6BC'> how</span><span style='background-color:#FFA745'>\n",
       "</span><span style='background-color:#E18C00'>Chat</span><span style='background-color:#FFD6BC'>bot</span><span style='background-color:#FFECE2'>:</span><span style='background-color:#E18C00'><EOP_TOKEN></span><span style='background-color:#FFD6BC'> can</span><span style='background-color:#FFECE2'> I</span><span style='background-color:#FFECE2'> help</span><span style='background-color:#FFECE2'> you</span><span style='background-color:#FFECE2'>?</span><span style='background-color:#FFECE2'>\n",
       "</span><span style='background-color:#FFECE2'>\n",
       "</span><span style='background-color:#FFECE2'>Hello</span><span style='background-color:#FFECE2'>,</span><span style='background-color:#FFECE2'> I</span></td>\n",
       "    </tr>\n",
       "    <tr>\n",
       "      <th>4</th>\n",
       "      <td>Hello, how</td>\n",
       "      <td>Hello! How can I help you today?</td>\n",
       "      <td>-3.7222323</td>\n",
       "      <td><span style='background-color:#FFECE2'><BOS_TOKEN></span><span style='background-color:#FFA745'>User</span><span style='background-color:#FFD6BC'>:</span><span style='background-color:#FFC59A'> Hello</span><span style='background-color:#FFECE2'>,</span><span style='background-color:#FFD6BC'> how</span><span style='background-color:#FFA745'>\n",
       "</span><span style='background-color:#E18C00'>Chat</span><span style='background-color:#FFD6BC'>bot</span><span style='background-color:#FFECE2'>:</span><span style='background-color:#E18C00'><EOP_TOKEN></span><span style='background-color:#FFECE2'> Hello</span><span style='background-color:#FFECE2'>!</span><span style='background-color:#FFECE2'> How</span><span style='background-color:#FFECE2'> can</span><span style='background-color:#FFECE2'> I</span><span style='background-color:#FFECE2'> help</span><span style='background-color:#FFECE2'> you</span><span style='background-color:#FFECE2'> today</span><span style='background-color:#FFECE2'>?</span><span style='background-color:#FFECE2'>\n",
       "\n",
       "</span></td>\n",
       "    </tr>\n",
       "  </tbody>\n",
       "</table>"
      ],
      "text/plain": [
       "Generations([cohere.Generation {\n",
       "             \tid: fd4577f8-c7bc-4f4b-bfd9-46dd564fefb3\n",
       "             \tprompt: Hello, how\n",
       "             \ttext:  Hello! How are you doing today?\n",
       "             \n",
       "             \n",
       "             \tlikelihood: -3.9180956\n",
       "             \tfinish_reason: None\n",
       "             \ttoken_likelihoods: [TokenLikelihood(token='<BOS_TOKEN>', likelihood=0), TokenLikelihood(token='User', likelihood=-9.456889), TokenLikelihood(token=':', likelihood=-2.8075876), TokenLikelihood(token=' Hello', likelihood=-5.8268847), TokenLikelihood(token=',', likelihood=-0.75594205), TokenLikelihood(token=' how', likelihood=-3.8593626), TokenLikelihood(token='\\n', likelihood=-8.6442375), TokenLikelihood(token='Chat', likelihood=-14.275549), TokenLikelihood(token='bot', likelihood=-3.4255042), TokenLikelihood(token=':', likelihood=-0.018728433), TokenLikelihood(token='<EOP_TOKEN>', likelihood=-20.9839), TokenLikelihood(token=' Hello', likelihood=-0.82517457), TokenLikelihood(token='!', likelihood=-0.8163874), TokenLikelihood(token=' How', likelihood=-0.23635486), TokenLikelihood(token=' are', likelihood=-1.4392691), TokenLikelihood(token=' you', likelihood=-0.007554844), TokenLikelihood(token=' doing', likelihood=-0.34311184), TokenLikelihood(token=' today', likelihood=-0.10507062), TokenLikelihood(token='?', likelihood=-0.036999933), TokenLikelihood(token='\\n\\n', likelihood=-0.57931113)]\n",
       "             },\n",
       "             cohere.Generation {\n",
       "             \tid: 12b369b6-21ce-4cc4-8a5a-a6d4855ddf6b\n",
       "             \tprompt: Hello, how\n",
       "             \ttext:  How can I help you?\n",
       "             \n",
       "             Hello,\n",
       "             \tlikelihood: -3.8998795\n",
       "             \tfinish_reason: None\n",
       "             \ttoken_likelihoods: [TokenLikelihood(token='<BOS_TOKEN>', likelihood=0), TokenLikelihood(token='User', likelihood=-9.457729), TokenLikelihood(token=':', likelihood=-2.8061588), TokenLikelihood(token=' Hello', likelihood=-5.82296), TokenLikelihood(token=',', likelihood=-0.7555605), TokenLikelihood(token=' how', likelihood=-3.8621607), TokenLikelihood(token='\\n', likelihood=-8.644629), TokenLikelihood(token='Chat', likelihood=-14.269571), TokenLikelihood(token='bot', likelihood=-3.4306915), TokenLikelihood(token=':', likelihood=-0.018738609), TokenLikelihood(token='<EOP_TOKEN>', likelihood=-20.990942), TokenLikelihood(token=' How', likelihood=-2.8531704), TokenLikelihood(token=' can', likelihood=-0.6266602), TokenLikelihood(token=' I', likelihood=-0.0153165655), TokenLikelihood(token=' help', likelihood=-0.09231348), TokenLikelihood(token=' you', likelihood=-0.015276862), TokenLikelihood(token='?', likelihood=-0.8209783), TokenLikelihood(token='\\n', likelihood=-0.9449504), TokenLikelihood(token='\\n', likelihood=-0.8484282), TokenLikelihood(token='Hello', likelihood=-1.4231164), TokenLikelihood(token=',', likelihood=-0.2982217)]\n",
       "             },\n",
       "             cohere.Generation {\n",
       "             \tid: 61b941e6-95a1-430b-8166-6e37a58b1d7a\n",
       "             \tprompt: Hello, how\n",
       "             \ttext:  are you doing today? I am doing well,\n",
       "             \tlikelihood: -3.911153\n",
       "             \tfinish_reason: None\n",
       "             \ttoken_likelihoods: [TokenLikelihood(token='<BOS_TOKEN>', likelihood=0), TokenLikelihood(token='User', likelihood=-9.456889), TokenLikelihood(token=':', likelihood=-2.8075876), TokenLikelihood(token=' Hello', likelihood=-5.8268847), TokenLikelihood(token=',', likelihood=-0.75594205), TokenLikelihood(token=' how', likelihood=-3.8593626), TokenLikelihood(token='\\n', likelihood=-8.6442375), TokenLikelihood(token='Chat', likelihood=-14.275549), TokenLikelihood(token='bot', likelihood=-3.4255042), TokenLikelihood(token=':', likelihood=-0.018728433), TokenLikelihood(token='<EOP_TOKEN>', likelihood=-20.9839), TokenLikelihood(token=' are', likelihood=-2.3710368), TokenLikelihood(token=' you', likelihood=-0.018410102), TokenLikelihood(token=' doing', likelihood=-0.7663391), TokenLikelihood(token=' today', likelihood=-0.4896746), TokenLikelihood(token='?', likelihood=-0.110062055), TokenLikelihood(token=' I', likelihood=-1.5889), TokenLikelihood(token=' am', likelihood=-1.9730008), TokenLikelihood(token=' doing', likelihood=-0.25085026), TokenLikelihood(token=' well', likelihood=-0.3969945), TokenLikelihood(token=',', likelihood=-0.20321114)]\n",
       "             },\n",
       "             cohere.Generation {\n",
       "             \tid: 1f3f7dd1-e5bd-4841-8594-48840ec9cca3\n",
       "             \tprompt: Hello, how\n",
       "             \ttext:  can I help you?\n",
       "             \n",
       "             Hello, I\n",
       "             \tlikelihood: -3.880114\n",
       "             \tfinish_reason: None\n",
       "             \ttoken_likelihoods: [TokenLikelihood(token='<BOS_TOKEN>', likelihood=0), TokenLikelihood(token='User', likelihood=-9.457274), TokenLikelihood(token=':', likelihood=-2.8043208), TokenLikelihood(token=' Hello', likelihood=-5.823951), TokenLikelihood(token=',', likelihood=-0.7554797), TokenLikelihood(token=' how', likelihood=-3.857112), TokenLikelihood(token='\\n', likelihood=-8.641606), TokenLikelihood(token='Chat', likelihood=-14.275879), TokenLikelihood(token='bot', likelihood=-3.428513), TokenLikelihood(token=':', likelihood=-0.018733459), TokenLikelihood(token='<EOP_TOKEN>', likelihood=-20.997501), TokenLikelihood(token=' can', likelihood=-2.3186395), TokenLikelihood(token=' I', likelihood=-0.06048803), TokenLikelihood(token=' help', likelihood=-0.124051206), TokenLikelihood(token=' you', likelihood=-0.014283103), TokenLikelihood(token='?', likelihood=-0.8384492), TokenLikelihood(token='\\n', likelihood=-0.9799895), TokenLikelihood(token='\\n', likelihood=-0.9598492), TokenLikelihood(token='Hello', likelihood=-1.1467719), TokenLikelihood(token=',', likelihood=-0.2666695), TokenLikelihood(token=' I', likelihood=-0.8327247)]\n",
       "             },\n",
       "             cohere.Generation {\n",
       "             \tid: 2dd719d4-78af-4689-8921-a148129d21de\n",
       "             \tprompt: Hello, how\n",
       "             \ttext:  Hello! How can I help you today?\n",
       "             \n",
       "             \n",
       "             \tlikelihood: -3.7222323\n",
       "             \tfinish_reason: None\n",
       "             \ttoken_likelihoods: [TokenLikelihood(token='<BOS_TOKEN>', likelihood=0), TokenLikelihood(token='User', likelihood=-9.457614), TokenLikelihood(token=':', likelihood=-2.8042881), TokenLikelihood(token=' Hello', likelihood=-5.8238754), TokenLikelihood(token=',', likelihood=-0.7566848), TokenLikelihood(token=' how', likelihood=-3.8583953), TokenLikelihood(token='\\n', likelihood=-8.64438), TokenLikelihood(token='Chat', likelihood=-14.272443), TokenLikelihood(token='bot', likelihood=-3.4158201), TokenLikelihood(token=':', likelihood=-0.018760014), TokenLikelihood(token='<EOP_TOKEN>', likelihood=-20.981066), TokenLikelihood(token=' Hello', likelihood=-0.8255024), TokenLikelihood(token='!', likelihood=-0.81592184), TokenLikelihood(token=' How', likelihood=-0.23705056), TokenLikelihood(token=' can', likelihood=-0.33844423), TokenLikelihood(token=' I', likelihood=-0.011436908), TokenLikelihood(token=' help', likelihood=-0.28018242), TokenLikelihood(token=' you', likelihood=-0.01649029), TokenLikelihood(token=' today', likelihood=-0.46811616), TokenLikelihood(token='?', likelihood=-0.016049072), TokenLikelihood(token='\\n\\n', likelihood=-1.4021215)]\n",
       "             }])"
      ]
     },
     "execution_count": 22,
     "metadata": {},
     "output_type": "execute_result"
    }
   ],
   "source": [
    "res_generate = co.generate(\n",
    "    prompt='Hello, how',\n",
    "    max_tokens=10,\n",
    "    num_generations=5,\n",
    "    return_likelihoods=\"ALL\"\n",
    ")\n",
    "\n",
    "res_generate"
   ]
  },
  {
   "cell_type": "markdown",
   "id": "b6fb2ca0",
   "metadata": {},
   "source": [
    "### Co.Classify"
   ]
  },
  {
   "cell_type": "code",
   "execution_count": 59,
   "id": "cf611dd4",
   "metadata": {},
   "outputs": [
    {
     "data": {
      "text/plain": [
       "Classification<prediction: \"Not spam\", confidence: 0.5661598, labels: {'Not spam': LabelPrediction(confidence=0.5661598), 'Spam': LabelPrediction(confidence=0.43384025)}>"
      ]
     },
     "execution_count": 59,
     "metadata": {},
     "output_type": "execute_result"
    }
   ],
   "source": [
    "from cohere.responses.classify import Example\n",
    "\n",
    "examples=[\n",
    "  Example(\"Dermatologists don't like her!\", \"Spam\"),\n",
    "  Example(\"'Hello, open to this?'\", \"Spam\"),\n",
    "  Example(\"I need help please wire me $1000 right now\", \"Spam\"),\n",
    "  Example(\"Nice to know you ;)\", \"Spam\"),\n",
    "  Example(\"Please help me?\", \"Spam\"),\n",
    "  Example(\"Your parcel will be delivered today\", \"Not spam\"),\n",
    "  Example(\"Review changes to our Terms and Conditions\", \"Not spam\"),\n",
    "  Example(\"Weekly sync notes\", \"Not spam\"),\n",
    "  Example(\"'Re: Follow up from today's meeting'\", \"Not spam\"),\n",
    "  Example(\"Pre-read for tomorrow\", \"Not spam\"),\n",
    "]\n",
    "\n",
    "inputs=[\n",
    "  \"Confirm your email address\",\n",
    "  \"hey i need u to send some $\",\n",
    "]\n",
    "\n",
    "res_classify = co.classify(\n",
    "    inputs=inputs,\n",
    "    examples=examples,\n",
    ")\n",
    "\n",
    "res_classify.classifications"
   ]
  },
  {
   "cell_type": "code",
   "execution_count": 61,
   "id": "fbcc15b2",
   "metadata": {},
   "outputs": [
    {
     "data": {
      "text/plain": [
       "[Classification<prediction: \"Spam\", confidence: 0.5063922, labels: {'Not spam': LabelPrediction(confidence=0.49360782), 'Spam': LabelPrediction(confidence=0.5063922)}>,\n",
       " Classification<prediction: \"Spam\", confidence: 0.79398656, labels: {'Not spam': LabelPrediction(confidence=0.20601346), 'Spam': LabelPrediction(confidence=0.79398656)}>]"
      ]
     },
     "execution_count": 61,
     "metadata": {},
     "output_type": "execute_result"
    }
   ],
   "source": [
    "res_classify = co.classify(\n",
    "    inputs=inputs,\n",
    "    examples=examples,\n",
    "    model='embed-multilingual-v2.0'\n",
    ")\n",
    "\n",
    "res_classify.classifications"
   ]
  },
  {
   "cell_type": "markdown",
   "id": "547fb59e",
   "metadata": {},
   "source": [
    "### Co.Tokenize"
   ]
  },
  {
   "cell_type": "code",
   "execution_count": 64,
   "id": "e7764a7c",
   "metadata": {},
   "outputs": [
    {
     "data": {
      "text/plain": [
       "['token', 'ize', ' me', ' !', 'D']"
      ]
     },
     "execution_count": 64,
     "metadata": {},
     "output_type": "execute_result"
    }
   ],
   "source": [
    "res_tokenize = co.tokenize(\n",
    "    text='tokenize me !D',\n",
    "    model='command'\n",
    ")\n",
    "\n",
    "res_tokenize.tokens\n",
    "res_tokenize.token_strings"
   ]
  },
  {
   "cell_type": "code",
   "execution_count": 70,
   "id": "ac4913f7",
   "metadata": {},
   "outputs": [
    {
     "data": {
      "text/plain": [
       "['�',\n",
       " '�',\n",
       " 'た',\n",
       " 'し',\n",
       " 'は',\n",
       " '�',\n",
       " '�',\n",
       " '�',\n",
       " '�',\n",
       " '�',\n",
       " '�',\n",
       " '�',\n",
       " '�',\n",
       " 'し',\n",
       " 'た',\n",
       " '�',\n",
       " '�',\n",
       " 'こ',\n",
       " 'が',\n",
       " '�',\n",
       " '�',\n",
       " 'い',\n",
       " 'す',\n",
       " 'き',\n",
       " 'で',\n",
       " 'す']"
      ]
     },
     "execution_count": 70,
     "metadata": {},
     "output_type": "execute_result"
    }
   ],
   "source": [
    "res_ja_tokenize = co.tokenize(\n",
    "    text='わたしはもふもふしたねこがだいすきです',\n",
    "    model='command'\n",
    ")\n",
    "\n",
    "\n",
    "res_ja_tokenize.token_strings"
   ]
  },
  {
   "cell_type": "markdown",
   "id": "214034ff",
   "metadata": {},
   "source": [
    "### Co.Detokenize"
   ]
  },
  {
   "cell_type": "code",
   "execution_count": 73,
   "id": "41d80311",
   "metadata": {},
   "outputs": [
    {
     "data": {
      "text/plain": [
       "cohere.Detokenization {\n",
       "\ttext: tokenize me !D\n",
       "\tmeta: {'api_version': {'version': '1'}}\n",
       "}"
      ]
     },
     "execution_count": 73,
     "metadata": {},
     "output_type": "execute_result"
    }
   ],
   "source": [
    "res_detokenize = co.detokenize(\n",
    "    tokens=res_tokenize.tokens\n",
    ")\n",
    "\n",
    "res_detokenize"
   ]
  },
  {
   "cell_type": "code",
   "execution_count": 74,
   "id": "91743874",
   "metadata": {},
   "outputs": [
    {
     "data": {
      "text/plain": [
       "cohere.Detokenization {\n",
       "\ttext: わたしはもふもふしたねこがだいすきです\n",
       "\tmeta: {'api_version': {'version': '1'}}\n",
       "}"
      ]
     },
     "execution_count": 74,
     "metadata": {},
     "output_type": "execute_result"
    }
   ],
   "source": [
    "res_ja_detokenize = co.detokenize(\n",
    "    tokens=res_ja_tokenize.tokens\n",
    ")\n",
    "\n",
    "res_ja_detokenize"
   ]
  },
  {
   "cell_type": "markdown",
   "id": "ae5bbae0",
   "metadata": {},
   "source": [
    "### Co.Detect_Language"
   ]
  },
  {
   "cell_type": "code",
   "execution_count": 80,
   "id": "85160d6f",
   "metadata": {},
   "outputs": [
    {
     "data": {
      "text/plain": [
       "cohere.DetectLanguageResponse {\n",
       "\tresults: [Language<language_code: \"en\", language_name: \"English\">]\n",
       "\tmeta: {'api_version': {'version': '1'}}\n",
       "}"
      ]
     },
     "execution_count": 80,
     "metadata": {},
     "output_type": "execute_result"
    }
   ],
   "source": [
    "res_detect_language = co.detect_language(\n",
    "    texts=['Hello world']\n",
    ")\n",
    "\n",
    "res_detect_language"
   ]
  },
  {
   "cell_type": "code",
   "execution_count": 82,
   "id": "9fbd604d",
   "metadata": {},
   "outputs": [
    {
     "data": {
      "text/plain": [
       "cohere.DetectLanguageResponse {\n",
       "\tresults: [Language<language_code: \"en\", language_name: \"English\">, Language<language_code: \"ja\", language_name: \"Japanese\">, Language<language_code: \"zh\", language_name: \"Chinese\">, Language<language_code: \"ko\", language_name: \"Korean\">]\n",
       "\tmeta: {'api_version': {'version': '1'}}\n",
       "}"
      ]
     },
     "execution_count": 82,
     "metadata": {},
     "output_type": "execute_result"
    }
   ],
   "source": [
    "res_multi_detect_language = co.detect_language(\n",
    "    texts=['Hello world', 'こんにちは世界', '世界你好', '안녕하세요']\n",
    ")\n",
    "\n",
    "res_multi_detect_language"
   ]
  },
  {
   "cell_type": "markdown",
   "id": "b264ad66",
   "metadata": {},
   "source": [
    "### Co.Summarize"
   ]
  },
  {
   "cell_type": "code",
   "execution_count": 83,
   "id": "5027789d",
   "metadata": {},
   "outputs": [
    {
     "data": {
      "text/plain": [
       "SummarizeResponse(id='d6819379-ff62-4d52-9af3-c08c0afb6c23', summary='Ice cream is a frozen dessert made from milk or cream and is flavored with a sweetener and a spice. It can also be made by whisking a flavored cream base and liquid nitrogen together. Food coloring and stabilizers may be added. It is cooled below the freezing point of water and stirred to incorporate air spaces and to prevent ice crystals from forming. It is solid at very low temperatures and becomes more malleable as its temperature increases. The meaning of the name \"ice cream\" varies from country to country. In some countries, \"ice cream\" applies only to a specific variety, while in others, it is used to refer to all variants. Dairy-free alternatives are available for those who are lactose intolerant, allergic to dairy protein, or vegan.', meta={'api_version': {'version': '1'}})"
      ]
     },
     "execution_count": 83,
     "metadata": {},
     "output_type": "execute_result"
    }
   ],
   "source": [
    "text = (\n",
    "  \"Ice cream is a sweetened frozen food typically eaten as a snack or dessert. \"\n",
    "  \"It may be made from milk or cream and is flavoured with a sweetener, \"\n",
    "  \"either sugar or an alternative, and a spice, such as cocoa or vanilla, \"\n",
    "  \"or with fruit such as strawberries or peaches. \"\n",
    "  \"It can also be made by whisking a flavored cream base and liquid nitrogen together. \"\n",
    "  \"Food coloring is sometimes added, in addition to stabilizers. \"\n",
    "  \"The mixture is cooled below the freezing point of water and stirred to incorporate air spaces \"\n",
    "  \"and to prevent detectable ice crystals from forming. The result is a smooth, \"\n",
    "  \"semi-solid foam that is solid at very low temperatures (below 2 °C or 35 °F). \"\n",
    "  \"It becomes more malleable as its temperature increases.\\n\\n\"\n",
    "  \"The meaning of the name \\\"ice cream\\\" varies from one country to another. \"\n",
    "  \"In some countries, such as the United States, \\\"ice cream\\\" applies only to a specific variety, \"\n",
    "  \"and most governments regulate the commercial use of the various terms according to the \"\n",
    "  \"relative quantities of the main ingredients, notably the amount of cream. \"\n",
    "  \"Products that do not meet the criteria to be called ice cream are sometimes labelled \"\n",
    "  \"\\\"frozen dairy dessert\\\" instead. In other countries, such as Italy and Argentina, \"\n",
    "  \"one word is used fo\\r all variants. Analogues made from dairy alternatives, \"\n",
    "  \"such as goat's or sheep's milk, or milk substitutes \"\n",
    "  \"(e.g., soy, cashew, coconut, almond milk or tofu), are available for those who are \"\n",
    "  \"lactose intolerant, allergic to dairy protein or vegan.\"\n",
    ")\n",
    "\n",
    "co_summarize = co.summarize(\n",
    "    text=text\n",
    ")\n",
    "\n",
    "co_summarize"
   ]
  },
  {
   "cell_type": "code",
   "execution_count": 89,
   "id": "b83f802f",
   "metadata": {},
   "outputs": [
    {
     "data": {
      "text/plain": [
       "SummarizeResponse(id='b7be4fda-7662-45ff-b6e5-fbafbb424fa5', summary='Ice cream is a sweetened frozen food typically eaten as a snack or dessert. It may be made from milk or cream and is flavored with a sweetener, either sugar or an alternative, and a spice, such as cocoa or vanilla, or with fruit such as strawberries or peaches. It can also be made by whisking a flavored cream base and liquid nitrogen together. Food coloring is sometimes added, in addition to stabilizers. The mixture is cooled below the freezing point of water and stirred to incorporate air spaces and to prevent detectable ice crystals from forming.', meta={'api_version': {'version': '1'}})"
      ]
     },
     "execution_count": 89,
     "metadata": {},
     "output_type": "execute_result"
    }
   ],
   "source": [
    "co_summarize = co.summarize(\n",
    "    text=text,\n",
    "    format='paragraph'\n",
    ")\n",
    "\n",
    "co_summarize"
   ]
  },
  {
   "cell_type": "code",
   "execution_count": 86,
   "id": "5b48819a",
   "metadata": {},
   "outputs": [
    {
     "data": {
      "text/plain": [
       "SummarizeResponse(id='75a0b8a9-8c3e-4a38-ae84-e7efd437c44c', summary='- Ice cream is a frozen dessert made from milk or cream and is flavoured with a sweetener and a spice or fruit.\\n- It can also be made by whisking a cream base and liquid nitrogen together.\\n- Food colouring and stabilisers may be added.\\n- It is cooled and stirred to incorporate air spaces and to prevent ice crystals from forming.\\n- The result is a smooth, semi-solid foam that is solid at low temperatures.\\n- It can be made from dairy alternatives for those who are lactose intolerant or vegan.\\n- The meaning of the name \"ice cream\" varies from country to country.\\n- In some countries, \"ice cream\" only applies to a specific variety, while in others it is used for all variants.\\n- Products that do not meet the criteria to be called ice cream are sometimes labelled \"frozen dairy dessert\".', meta={'api_version': {'version': '1'}})"
      ]
     },
     "execution_count": 86,
     "metadata": {},
     "output_type": "execute_result"
    }
   ],
   "source": [
    "co_summarize = co.summarize(\n",
    "    text=text,\n",
    "    format='bullets'\n",
    ")\n",
    "\n",
    "co_summarize"
   ]
  },
  {
   "cell_type": "code",
   "execution_count": 94,
   "id": "fb223aaf",
   "metadata": {},
   "outputs": [
    {
     "data": {
      "text/plain": [
       "SummarizeResponse(id='45bb0002-7803-4012-a824-d67ae3455c79', summary='- 「岡むら屋」は新橋と秋葉原に店を構えるようにしています。\\n- 味噌ベースの独自の味つけで牛バラ肉を煮込んだ具材がたっぷり乗ったオリジナル丼『肉めし』で知られる店です。\\n- この「肉めし」は「めんかいめんかいのめんかいめんかいというようなめんかいめんかいのめんかいめんかいのめんかいめんかいのめんかいめんかいのめんかいめんかいのめんかいめんかいのめんかいめんかいのめんか', meta={'api_version': {'version': '1'}})"
      ]
     },
     "execution_count": 94,
     "metadata": {},
     "output_type": "execute_result"
    }
   ],
   "source": [
    "# https://news.livedoor.com/article/detail/11097202/\n",
    "\n",
    "## Exective Summary\n",
    "# 岡むら屋から、期間限定の新メニュー「じゃが肉めし」が登場する\n",
    "# 男爵いもなどは味噌ベースで煮こまれ、しっかり味が染み込んでいるとのこと\n",
    "#「岡むら屋特製肉じゃが」と言うべき一品に、仕上がっているという\n",
    "\n",
    "text_ja = (\n",
    "    \"新橋と秋葉原に店を構える「岡むら屋」。味噌ベースの独自の味つけで牛バラ肉を煮込んだ具材がたっぷり乗ったオリジナル丼『肉めし』で知られる店です。\"\n",
    "    \"自分も新橋店で『肉めし』を食べたことがありますが、濃いめの味付けでトロットロに煮こまれた牛肉とホカホカご飯は最高の相性！ 味の染み込んだ豆腐も絶品で、腹ぺこボーイズ&ガールズたちの胃袋を満たし続けている丼なのです。昨年開催された『第2回全国丼グランプリ』では、肉丼部門で金賞受賞を獲得しています。\"\n",
    "    \"そんな「岡むら屋」に期間限定新メニューが登場。その名も『じゃが肉めし』！\"\n",
    "    \"肉×芋×白米、スーパースターの競演！\"\n",
    "    \"肉と芋――このまま名作文学のタイトルにもなりそうな、重厚かつ甘美な響き。これって食いしんぼうたちにとっては定番かつ夢の組み合わせではないでしょうか。\"\n",
    "    \"この組み合わせではすでに「肉じゃが」という殿堂入りメニューがありますが、今回の『じゃが肉めし』は、“岡むら屋特製肉じゃが”と言うべき一品に仕上がっているそうです。\"\n",
    "    \"北海道産の男爵いもとしらたきを合わせ、味噌ベースの大鍋で他の具材と一気に煮込むことで、しっかり味が染み込んでいるとのこと。商品写真が公開されていますが、ビジュアルを見ただけで、その染みこみ具合いは一目瞭然！\"\n",
    "    \"丼というステージで繰り広げられる、肉×芋×白米というスーパースターの競演。肉好き必食の1杯と言えそうです。あ、定食も同時販売されるので、気分で選べるのもうれしいですね。\"\n",
    "    \"詳しい販売期間などは、店舗にお問い合わせください。\"\n",
    "    \"肉めし「岡むら屋」\"\n",
    "    \"「じゃが肉めし」(税込640円)\"\n",
    "    \"「じゃが肉皿定食」(税込740円)\"\n",
    ")\n",
    "\n",
    "\n",
    "co_summarize = co.summarize(\n",
    "    text=text_ja,\n",
    "    format='bullets',\n",
    "    additional_command='日本語で出力してください'\n",
    ")\n",
    "\n",
    "co_summarize"
   ]
  },
  {
   "cell_type": "markdown",
   "id": "fe3ed6af",
   "metadata": {},
   "source": [
    "### Co.Rerank"
   ]
  },
  {
   "cell_type": "code",
   "execution_count": 96,
   "id": "beef23ec",
   "metadata": {},
   "outputs": [
    {
     "data": {
      "text/plain": [
       "[RerankResult<document['text']: Washington, D.C. (also known as simply Washington or D.C., and officially as the District of Columbia) is the capital of the United States. It is a federal district., index: 2, relevance_score: 0.98005307>, RerankResult<document['text']: Capital punishment (the death penalty) has existed in the United States since beforethe United States was a country. As of 2017, capital punishment is legal in 30 of the 50 states., index: 3, relevance_score: 0.27904198>, RerankResult<document['text']: Carson City is the capital city of the American state of Nevada., index: 0, relevance_score: 0.10194652>]"
      ]
     },
     "execution_count": 96,
     "metadata": {},
     "output_type": "execute_result"
    }
   ],
   "source": [
    "docs = [\n",
    "    'Carson City is the capital city of the American state of Nevada.',\n",
    "    'The Commonwealth of the Northern Mariana Islands is a group of islands in the Pacific Ocean. Its capital is Saipan.',\n",
    "    'Washington, D.C. (also known as simply Washington or D.C., and officially as the District of Columbia) is the capital of the United States. It is a federal district.',\n",
    "    'Capital punishment (the death penalty) has existed in the United States since beforethe United States was a country. As of 2017, capital punishment is legal in 30 of the 50 states.'\n",
    "]\n",
    "\n",
    "co_rerank = co.rerank(\n",
    "    model='rerank-english-v2.0',\n",
    "    query='What is the capital of the United States?',\n",
    "    documents=docs,\n",
    "    top_n=3\n",
    ")\n",
    "\n",
    "co_rerank"
   ]
  },
  {
   "cell_type": "code",
   "execution_count": 100,
   "id": "b9f2b6dc",
   "metadata": {},
   "outputs": [
    {
     "data": {
      "text/plain": [
       "[RerankResult<document['text']:  ワシントンD.C.（Washington, D.C.）は、アメリカ合衆国の首都である。連邦区である, index: 2, relevance_score: 0.9998813>, RerankResult<document['text']: カーソンシティはアメリカ・ネバダ州の州都である, index: 0, relevance_score: 0.37903354>, RerankResult<document['text']: 北マリアナ諸島連邦は太平洋に浮かぶ島々である。首都はサイパンである。, index: 1, relevance_score: 0.23899394>]"
      ]
     },
     "execution_count": 100,
     "metadata": {},
     "output_type": "execute_result"
    }
   ],
   "source": [
    "docs_ja = [\n",
    "    'カーソンシティはアメリカ・ネバダ州の州都である',\n",
    "    '北マリアナ諸島連邦は太平洋に浮かぶ島々である。首都はサイパンである。',\n",
    "    ' ワシントンD.C.（Washington, D.C.）は、アメリカ合衆国の首都である。連邦区である',\n",
    "    '死刑制度はアメリカ合衆国が国である以前から存在する。2017年現在、死刑は50州のうち30州で合法である。'\n",
    "]\n",
    "\n",
    "co_rerank_ja = co.rerank(\n",
    "    model='rerank-multilingual-v2.0',\n",
    "    query='アメリカの首都は何ですか？',\n",
    "    documents=docs_ja,\n",
    "    top_n=3\n",
    ")\n",
    "\n",
    "co_rerank_ja"
   ]
  }
 ],
 "metadata": {
  "kernelspec": {
   "display_name": "Python 3",
   "language": "python",
   "name": "python3"
  },
  "language_info": {
   "codemirror_mode": {
    "name": "ipython",
    "version": 3
   },
   "file_extension": ".py",
   "mimetype": "text/x-python",
   "name": "python",
   "nbconvert_exporter": "python",
   "pygments_lexer": "ipython3",
   "version": "3.10.12"
  }
 },
 "nbformat": 4,
 "nbformat_minor": 5
}
