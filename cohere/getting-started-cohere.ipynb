{
 "cells": [
  {
   "cell_type": "markdown",
   "id": "0cea6ff4",
   "metadata": {},
   "source": [
    "### OCI Data Science - Useful Tips\n",
    "<details>\n",
    "<summary><font size=\"2\">Check for Public Internet Access</font></summary>\n",
    "\n",
    "```python\n",
    "import requests\n",
    "response = requests.get(\"https://oracle.com\")\n",
    "assert response.status_code==200, \"Internet connection failed\"\n",
    "```\n",
    "</details>\n",
    "<details>\n",
    "<summary><font size=\"2\">Helpful Documentation </font></summary>\n",
    "<ul><li><a href=\"https://docs.cloud.oracle.com/en-us/iaas/data-science/using/data-science.htm\">Data Science Service Documentation</a></li>\n",
    "<li><a href=\"https://docs.cloud.oracle.com/iaas/tools/ads-sdk/latest/index.html\">ADS documentation</a></li>\n",
    "</ul>\n",
    "</details>\n",
    "<details>\n",
    "<summary><font size=\"2\">Typical Cell Imports and Settings for ADS</font></summary>\n",
    "\n",
    "```python\n",
    "%load_ext autoreload\n",
    "%autoreload 2\n",
    "%matplotlib inline\n",
    "\n",
    "import warnings\n",
    "warnings.filterwarnings('ignore')\n",
    "\n",
    "import logging\n",
    "logging.basicConfig(format='%(levelname)s:%(message)s', level=logging.ERROR)\n",
    "\n",
    "import ads\n",
    "from ads.dataset.factory import DatasetFactory\n",
    "from ads.automl.provider import OracleAutoMLProvider\n",
    "from ads.automl.driver import AutoML\n",
    "from ads.evaluations.evaluator import ADSEvaluator\n",
    "from ads.common.data import ADSData\n",
    "from ads.explanations.explainer import ADSExplainer\n",
    "from ads.explanations.mlx_global_explainer import MLXGlobalExplainer\n",
    "from ads.explanations.mlx_local_explainer import MLXLocalExplainer\n",
    "from ads.catalog.model import ModelCatalog\n",
    "from ads.common.model_artifact import ModelArtifact\n",
    "```\n",
    "</details>\n",
    "<details>\n",
    "<summary><font size=\"2\">Useful Environment Variables</font></summary>\n",
    "\n",
    "```python\n",
    "import os\n",
    "print(os.environ[\"NB_SESSION_COMPARTMENT_OCID\"])\n",
    "print(os.environ[\"PROJECT_OCID\"])\n",
    "print(os.environ[\"USER_OCID\"])\n",
    "print(os.environ[\"TENANCY_OCID\"])\n",
    "print(os.environ[\"NB_REGION\"])\n",
    "```\n",
    "</details>"
   ]
  },
  {
   "cell_type": "code",
   "execution_count": 1,
   "id": "1227bc12",
   "metadata": {},
   "outputs": [],
   "source": [
    "import cohere\n",
    "import os"
   ]
  },
  {
   "cell_type": "code",
   "execution_count": 6,
   "id": "0e60def9",
   "metadata": {},
   "outputs": [],
   "source": [
    "api_key = 'qqeTupZ0CrC301KoWcf8RBPp8RiCev1EDFTfKEJe'"
   ]
  },
  {
   "cell_type": "code",
   "execution_count": 7,
   "id": "4e126a5b",
   "metadata": {},
   "outputs": [],
   "source": [
    "co = cohere.Client(api_key)"
   ]
  },
  {
   "cell_type": "markdown",
   "id": "9919bce9",
   "metadata": {},
   "source": [
    "### Classifications"
   ]
  },
  {
   "cell_type": "markdown",
   "id": "9dae6f32",
   "metadata": {},
   "source": [
    "#### Add examples"
   ]
  },
  {
   "cell_type": "code",
   "execution_count": 8,
   "id": "fef0af9e",
   "metadata": {},
   "outputs": [],
   "source": [
    "from cohere.responses.classify import Example\n",
    "\n",
    "examples = [\n",
    "  Example(\"How do I find my insurance policy?\", \"Finding policy details\"),\n",
    "  Example(\"How do I download a copy of my insurance policy?\", \"Finding policy details\"),\n",
    "  Example(\"How do I find my policy effective date?\", \"Finding policy details\"),\n",
    "  Example(\"When does my insurance policy end?\", \"Finding policy details\"),\n",
    "  Example(\"Could you please tell me the date my policy becomes effective?\", \"Finding policy details\"),\n",
    "  Example(\"How do I sign up for electronic filing?\", \"Change account settings\"),\n",
    "  Example(\"How do I change my policy?\", \"Change account settings\"),\n",
    "  Example(\"How do I sign up for direct deposit?\", \"Change account settings\"),\n",
    "  Example(\"I want direct deposit. Can you help with that?\", \"Change account settings\"),\n",
    "  Example(\"Could you deposit money into my account rather than mailing me a physical cheque?\", \"Change account settings\"),\n",
    "  Example(\"How do I file an insurance claim?\", \"Filing a claim and viewing status\"),\n",
    "  Example(\"How do I file a reimbursement claim?\", \"Filing a claim and viewing status\"),\n",
    "  Example(\"How do I check my claim status?\", \"Filing a claim and viewing status\"),\n",
    "  Example(\"When will my claim be reimbursed?\", \"Filing a claim and viewing status\"),\n",
    "  Example(\"I filed my claim 2 weeks ago but I still haven’t received a deposit for it.\", \"Filing a claim and viewing status\"),\n",
    "  Example(\"I want to cancel my policy immediately! This is nonsense.\", \"Cancelling coverage\"),\n",
    "  Example(\"Could you please help my end my insurance coverage? Thank you.\",\n",
    "  \"Cancelling coverage\"),\n",
    "  Example(\"Your service sucks. I’m switching providers. Cancel my coverage.\", \"Cancelling coverage\"),\n",
    "  Example(\"Hello there! How do I cancel my coverage?\", \"Cancelling coverage\"),\n",
    "  Example(\"How do I delete my account?\", \"Cancelling coverage\")\n",
    "]"
   ]
  },
  {
   "cell_type": "markdown",
   "id": "110e40e5",
   "metadata": {},
   "source": [
    "#### Add inputs"
   ]
  },
  {
   "cell_type": "code",
   "execution_count": 11,
   "id": "80621e0f",
   "metadata": {},
   "outputs": [],
   "source": [
    "inputs = [\n",
    "  \"I want to change my password\",\n",
    "  \"Does my policy cover prescription medication?\"\n",
    "]"
   ]
  },
  {
   "cell_type": "code",
   "execution_count": 22,
   "id": "ea6fe912",
   "metadata": {},
   "outputs": [
    {
     "data": {
      "text/plain": [
       "[Classification<prediction: \"Change account settings\", confidence: 0.9852129, labels: {'Cancelling coverage': LabelPrediction(confidence=0.013091597), 'Change account settings': LabelPrediction(confidence=0.9852129), 'Filing a claim and viewing status': LabelPrediction(confidence=0.0003450136), 'Finding policy details': LabelPrediction(confidence=0.0013504827)}>,\n",
       " Classification<prediction: \"Finding policy details\", confidence: 0.8247691, labels: {'Cancelling coverage': LabelPrediction(confidence=0.05437897), 'Change account settings': LabelPrediction(confidence=0.078491256), 'Filing a claim and viewing status': LabelPrediction(confidence=0.042360693), 'Finding policy details': LabelPrediction(confidence=0.8247691)}>]"
      ]
     },
     "execution_count": 22,
     "metadata": {},
     "output_type": "execute_result"
    }
   ],
   "source": [
    "response = co.classify(\n",
    "    model='large',\n",
    "    inputs=inputs,\n",
    "    examples=examples\n",
    ")\n",
    "\n",
    "response.classifications"
   ]
  },
  {
   "cell_type": "markdown",
   "id": "5f5ae81f",
   "metadata": {},
   "source": [
    "### Generate"
   ]
  },
  {
   "cell_type": "code",
   "execution_count": 23,
   "id": "f614ed63",
   "metadata": {},
   "outputs": [
    {
     "name": "stdout",
     "output_type": "stream",
     "text": [
      "[cohere.Generation {\n",
      "\tid: c0787a53-e8f5-49bb-9364-ea2101c9d870\n",
      "\tprompt: please explain to me how LLMs work\n",
      "\ttext:  LLMs (or Large Language Models) are a type of artificial intelligence model that is designed to understand\n",
      "\tlikelihood: None\n",
      "\tfinish_reason: None\n",
      "\ttoken_likelihoods: None\n",
      "}]\n"
     ]
    }
   ],
   "source": [
    "response = co.generate(prompt=\"please explain to me how LLMs work\")\n",
    "\n",
    "print(response.generations)"
   ]
  }
 ],
 "metadata": {
  "kernelspec": {
   "display_name": "Python [conda env:root] *",
   "language": "python",
   "name": "conda-root-py"
  },
  "language_info": {
   "codemirror_mode": {
    "name": "ipython",
    "version": 3
   },
   "file_extension": ".py",
   "mimetype": "text/x-python",
   "name": "python",
   "nbconvert_exporter": "python",
   "pygments_lexer": "ipython3",
   "version": "3.8.15"
  }
 },
 "nbformat": 4,
 "nbformat_minor": 5
}
