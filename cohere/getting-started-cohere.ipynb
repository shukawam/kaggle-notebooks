{
 "cells": [
  {
   "cell_type": "markdown",
   "id": "57f7a7fd",
   "metadata": {},
   "source": [
    "## Getting Started Cohere"
   ]
  },
  {
   "cell_type": "markdown",
   "id": "eb48b088",
   "metadata": {},
   "source": [
    "### Setup"
   ]
  },
  {
   "cell_type": "code",
   "execution_count": null,
   "id": "ddf17a26",
   "metadata": {},
   "outputs": [],
   "source": [
    "import cohere"
   ]
  },
  {
   "cell_type": "code",
   "execution_count": null,
   "id": "5f812bc4",
   "metadata": {},
   "outputs": [],
   "source": [
<<<<<<< HEAD
    "api_key = '<your-api-key>'"
=======
    "api_key = '<enter your api_key>'"
>>>>>>> 470fe8448a110c99e9fbab27ace370c8bd3875df
   ]
  },
  {
   "cell_type": "code",
   "execution_count": null,
   "id": "fb047baf",
   "metadata": {},
   "outputs": [],
   "source": [
    "co = cohere.Client(api_key)"
   ]
  },
  {
   "cell_type": "code",
   "execution_count": null,
   "id": "b731fafd",
   "metadata": {},
   "outputs": [],
   "source": [
    "co.check_api_key()"
   ]
  },
  {
   "cell_type": "markdown",
   "id": "8fc80f4b",
   "metadata": {},
   "source": [
    "### Co.Generate"
   ]
  },
  {
   "cell_type": "code",
   "execution_count": null,
   "id": "bf86536a",
   "metadata": {},
   "outputs": [],
   "source": [
    "res_generate = co.generate(\n",
    "    prompt='Hello, how'\n",
    ")\n",
    "\n",
    "print(res_generate)"
   ]
  },
  {
   "cell_type": "markdown",
   "id": "be91cf8f",
   "metadata": {},
   "source": [
    "Nightlyモデルを使用し、最大50トークン含むテキストを3つ生成する"
   ]
  },
  {
   "cell_type": "code",
   "execution_count": null,
   "id": "cacb2180",
   "metadata": {},
   "outputs": [],
   "source": [
    "res_generate = co.generate(\n",
    "    prompt='Hello, how',\n",
    "    model='command-nightly', # use nightly model\n",
    "    num_generations=3,\n",
    "    max_tokens=50\n",
    ")\n",
    "\n",
    "print(res_generate)"
   ]
  },
  {
   "cell_type": "markdown",
   "id": "49d254a4",
   "metadata": {},
   "source": [
    "最も可能性の高い上位5個(k=5)のトークンのみを生成対象として考慮し、生成におけるランダム性を最大(temperature=5.0)にする"
   ]
  },
  {
   "cell_type": "code",
   "execution_count": null,
   "id": "9a55d591",
   "metadata": {},
   "outputs": [],
   "source": [
    "res_generate = co.generate(\n",
    "    prompt='Hello, how',\n",
    "    model='command-nightly',\n",
    "    num_generations=3,\n",
    "    max_tokens=50,\n",
    "    k=5,\n",
    "    temperature=5.0\n",
    ")\n",
    "\n",
    "print(res_generate)"
   ]
  },
  {
   "cell_type": "markdown",
   "id": "c582c344",
   "metadata": {},
   "source": [
    "生成結果をJSON streamで受け取る（レスポンスの内容を少しずつレンダリングするUIにとって有益らしい）"
   ]
  },
  {
   "cell_type": "code",
   "execution_count": null,
   "id": "d32be4c8",
   "metadata": {},
   "outputs": [],
   "source": [
    "res_generate_streaming = co.generate(\n",
    "    prompt='Hello, how',\n",
    "    stream=True\n",
    ")\n",
    "\n",
    "for index, token in enumerate(res_generate_streaming):\n",
    "    print(f\"{index}: {token}\")\n",
    "\n",
    "res_generate_streaming.texts"
   ]
  },
  {
   "cell_type": "markdown",
   "id": "5b431787",
   "metadata": {},
   "source": [
    "### Co.Embed"
   ]
  },
  {
   "cell_type": "code",
   "execution_count": null,
   "id": "f68a9bfc",
   "metadata": {},
   "outputs": [],
   "source": [
    "res_embed = co.embed(\n",
    "    texts=['hello', 'world']\n",
    ")\n",
    "\n",
    "print(res_embed)"
   ]
  },
  {
   "cell_type": "markdown",
   "id": "52d38acb",
   "metadata": {},
   "source": [
    "軽量版モデル（model=embed-english-light-v2.0）を使ってみる"
   ]
  },
  {
   "cell_type": "code",
   "execution_count": null,
   "id": "28386898",
   "metadata": {},
   "outputs": [],
   "source": [
    "res_embed = co.embed(\n",
    "    texts=['hello', 'world'],\n",
    "    model='embed-english-light-v2.0'\n",
    ")\n",
    "\n",
    "print(res_embed)"
   ]
  },
  {
   "cell_type": "markdown",
   "id": "b54d8f95",
   "metadata": {},
   "source": [
    "multilingual対応のモデル(model=embed-multilingual-v2.0)を使ってみる"
   ]
  },
  {
   "cell_type": "code",
   "execution_count": null,
   "id": "41dff888",
   "metadata": {},
   "outputs": [],
   "source": [
    "res_embed = co.embed(\n",
    "    texts=['こんにちは', '世界'],\n",
    "    model='embed-multilingual-v2.0'\n",
    ")\n",
    "\n",
    "print(res_embed)"
   ]
  },
  {
   "cell_type": "markdown",
   "id": "6e4af1f7",
   "metadata": {},
   "source": [
    "### Co.Classify"
   ]
  },
  {
   "cell_type": "code",
   "execution_count": null,
   "id": "9ef481f2",
   "metadata": {},
   "outputs": [],
   "source": [
    "from cohere.responses.classify import Example\n",
    "\n",
    "examples=[\n",
    "  Example(\"Dermatologists don't like her!\", \"Spam\"),\n",
    "  Example(\"'Hello, open to this?'\", \"Spam\"),\n",
    "  Example(\"I need help please wire me $1000 right now\", \"Spam\"),\n",
    "  Example(\"Nice to know you ;)\", \"Spam\"),\n",
    "  Example(\"Please help me?\", \"Spam\"),\n",
    "  Example(\"Your parcel will be delivered today\", \"Not spam\"),\n",
    "  Example(\"Review changes to our Terms and Conditions\", \"Not spam\"),\n",
    "  Example(\"Weekly sync notes\", \"Not spam\"),\n",
    "  Example(\"'Re: Follow up from today's meeting'\", \"Not spam\"),\n",
    "  Example(\"Pre-read for tomorrow\", \"Not spam\"),\n",
    "]\n",
    "\n",
    "inputs=[\n",
    "  \"Confirm your email address\",\n",
    "  \"hey i need u to send some $\",\n",
    "]\n",
    "\n",
    "res_classify = co.classify(\n",
    "    inputs=inputs,\n",
    "    examples=examples,\n",
    ")\n",
    "\n",
    "print(res_classify)"
   ]
  },
  {
   "cell_type": "markdown",
   "id": "f5326937",
   "metadata": {},
   "source": [
    "軽量版モデル（model=small）を選択肢、入力が最大長を超えた場合はエラーを返す"
   ]
  },
  {
   "cell_type": "code",
   "execution_count": null,
   "id": "3f12b1f5",
   "metadata": {},
   "outputs": [],
   "source": [
    "inputs_max_exceeded=[\n",
    "  \"Confirm your email address\",\n",
    "  \"hey i need u to send some $\",\n",
    "  \"Please sign the receipt attached for the arrival of new office facilities.\",\n",
    "  \"Attached is the paper concerning with the cancellation of your current credit card.\",\n",
    "  \"The monthly financial statement is attached within the email.\",\n",
    "  \"The audit report you inquired is attached in the mail. Please review and transfer it to the related department.\",\n",
    "  \"There is a message for you from 01478719696, on 2016/08/23 18:26:30. You might want to check it when you get a chance.Thanks!\",\n",
    "  \"Dear John, I am attaching the mortgage documents relating to your department. They need to be signed in urgent manner.\",\n",
    "  \"This email/fax transmission is confidential and intended solely for the person or organisation to whom it is addressed. If you are not the intended recipient, you must not copy, distribute or disseminate the information, or take any action in reliance of it. Any views expressed in this message are those of the individual sender, except where the sender specifically states them to be the views of any organisation or employer. If you have received this message in error, do not open any attachment but please notify the sender (above) deleting this message from your system. For email transmissions please rely on your own virus check no responsibility is taken by the sender for any damage rising out of any bug or virus infection.\",\n",
    "  \"Sent with Genius Scan for iOS. http://bit.ly/download-genius-scan\",\n",
    "  \"Hey John, as you requested, attached is the paycheck for your next month?s salary in advance.\",\n",
    "  \"I am sending you the flight tickets for your business conference abroad next month. Please see the attached and note the date and time.\",\n",
    "  \"Attached is the bank transactions made from the company during last month. Please file these transactions into financial record.\",\n",
    "  \"example.com SV9100 InMail\",\n",
    "  \"Attached file is scanned image in PDF format. Use Acrobat(R)Reader(R) or Adobe(R)Reader(R) of Adobe Systems Incorporated to view the document. Adobe(R)Reader(R) can be downloaded from the following URL: Adobe, the Adobe logo, Acrobat, the Adobe PDF logo, and Reader are registered trademarks or trademarks of Adobe Systems Incorporated in the United States and other countries.\",\n",
    "  \"Here is the travel expense sheet for your upcoming company field trip. Please write down the approximate costs in the attachment.\",\n",
    "  \"Attached is the list of old office facilities that need to be replaced. Please copy the list into the purchase order form.\",\n",
    "  \"We are sending you the credit card receipt from yesterday. Please match the card number and amount.\",\n",
    "  \"Queries to: <scanner@example.com\",\n",
    "  \"Please find our invoice attached.\",\n",
    "  \"Hello! We are looking for employees working remotely. My name is Margaret, I am the personnel manager of a large International company. Most of the work you can do from home, that is, at a distance. Salary is $3000-$6000. If you are interested in this offer, please visit\",\n",
    "  \"Please see the attached copy of the report.\",\n",
    "  \"Attached is a pdf file containing items that have shipped. Please contact us if there are any questions or further assistance we can provide\",\n",
    "  \"Please see the attached license and send it to the head office.\",\n",
    "  \"Please find attached documents as requested.\",\n",
    "  \"We are looking for employees working remotely. My name is Enid, I am the personnel manager of a large International company. Most of the work you can do from home, that is, at a distance. Salary is $2000-$5400. If you are interested in this offer, please visit\",\n",
    "  \"Your item #123456789 has been sent to you by carrier. He will arrive to youon 23th of September, 2016 at noon.\",\n",
    "  \"Dear John, we are very sorry to inform you that the item you requested is out of stock. Here is the list of items similar to the ones you requested. Please take a look and let us know if you would like to substitute with any of them.\",\n",
    "  \"Thank you for your order! Please find your final sales receipt attached to this email. Your USPS Tracking Number is: 123456789. This order will ship tomorrow and you should be able to begin tracking tomorrow evening after it is picked up. If you have any questions or experience any problems, please let us know so we can assist you. Thanks again and enjoy! Thanks,\",\n",
    "  \"Thanks for using electronic billing. Please find your document attached\",\n",
    "  \"Dear John, I attached the clients’ accounts for your next operation. Please look through them and collect their data. I expect to hear from you soon.\",\n",
    "  \"You are receiving this email because the company has assigned you as part of the approval team. Please review the attached proposal form and make your approval decision. If you have any problem regarding the submission, please contact Gonzalo.\",\n",
    "  \"this is to inform you that your Debit Card is temporarily blocked as there were unknown transactions made today. We attached the scan of transactions. Please confirm whether you made these transactions.\",\n",
    "  \"The letter is attached. Please review his concerns carefully and reply him as soon as possible. King regards,\",\n",
    "  \"Confirm your email address\",\n",
    "  \"hey i need u to send some $\",\n",
    "  \"Please sign the receipt attached for the arrival of new office facilities.\",\n",
    "  \"Attached is the paper concerning with the cancellation of your current credit card.\",\n",
    "  \"The monthly financial statement is attached within the email.\",\n",
    "  \"The audit report you inquired is attached in the mail. Please review and transfer it to the related department.\",\n",
    "  \"There is a message for you from 01478719696, on 2016/08/23 18:26:30. You might want to check it when you get a chance.Thanks!\",\n",
    "  \"Dear John, I am attaching the mortgage documents relating to your department. They need to be signed in urgent manner.\",\n",
    "  \"This email/fax transmission is confidential and intended solely for the person or organisation to whom it is addressed. If you are not the intended recipient, you must not copy, distribute or disseminate the information, or take any action in reliance of it. Any views expressed in this message are those of the individual sender, except where the sender specifically states them to be the views of any organisation or employer. If you have received this message in error, do not open any attachment but please notify the sender (above) deleting this message from your system. For email transmissions please rely on your own virus check no responsibility is taken by the sender for any damage rising out of any bug or virus infection.\",\n",
    "  \"Sent with Genius Scan for iOS. http://bit.ly/download-genius-scan\",\n",
    "  \"Hey John, as you requested, attached is the paycheck for your next month?s salary in advance.\",\n",
    "  \"I am sending you the flight tickets for your business conference abroad next month. Please see the attached and note the date and time.\",\n",
    "  \"Attached is the bank transactions made from the company during last month. Please file these transactions into financial record.\",\n",
    "  \"example.com SV9100 InMail\",\n",
    "  \"Attached file is scanned image in PDF format. Use Acrobat(R)Reader(R) or Adobe(R)Reader(R) of Adobe Systems Incorporated to view the document. Adobe(R)Reader(R) can be downloaded from the following URL: Adobe, the Adobe logo, Acrobat, the Adobe PDF logo, and Reader are registered trademarks or trademarks of Adobe Systems Incorporated in the United States and other countries.\",\n",
    "  \"Here is the travel expense sheet for your upcoming company field trip. Please write down the approximate costs in the attachment.\",\n",
    "  \"Attached is the list of old office facilities that need to be replaced. Please copy the list into the purchase order form.\",\n",
    "  \"We are sending you the credit card receipt from yesterday. Please match the card number and amount.\",\n",
    "  \"Queries to: <scanner@example.com\",\n",
    "  \"Please find our invoice attached.\",\n",
    "  \"Hello! We are looking for employees working remotely. My name is Margaret, I am the personnel manager of a large International company. Most of the work you can do from home, that is, at a distance. Salary is $3000-$6000. If you are interested in this offer, please visit\",\n",
    "  \"Please see the attached copy of the report.\",\n",
    "  \"Attached is a pdf file containing items that have shipped. Please contact us if there are any questions or further assistance we can provide\",\n",
    "  \"Please see the attached license and send it to the head office.\",\n",
    "  \"Please find attached documents as requested.\",\n",
    "  \"We are looking for employees working remotely. My name is Enid, I am the personnel manager of a large International company. Most of the work you can do from home, that is, at a distance. Salary is $2000-$5400. If you are interested in this offer, please visit\",\n",
    "  \"Your item #123456789 has been sent to you by carrier. He will arrive to youon 23th of September, 2016 at noon.\",\n",
    "  \"Dear John, we are very sorry to inform you that the item you requested is out of stock. Here is the list of items similar to the ones you requested. Please take a look and let us know if you would like to substitute with any of them.\",\n",
    "  \"Thank you for your order! Please find your final sales receipt attached to this email. Your USPS Tracking Number is: 123456789. This order will ship tomorrow and you should be able to begin tracking tomorrow evening after it is picked up. If you have any questions or experience any problems, please let us know so we can assist you. Thanks again and enjoy! Thanks,\",\n",
    "  \"Thanks for using electronic billing. Please find your document attached\",\n",
    "  \"Dear John, I attached the clients’ accounts for your next operation. Please look through them and collect their data. I expect to hear from you soon.\",\n",
    "  \"You are receiving this email because the company has assigned you as part of the approval team. Please review the attached proposal form and make your approval decision. If you have any problem regarding the submission, please contact Gonzalo.\",\n",
    "  \"this is to inform you that your Debit Card is temporarily blocked as there were unknown transactions made today. We attached the scan of transactions. Please confirm whether you made these transactions.\",\n",
    "  \"The letter is attached. Please review his concerns carefully and reply him as soon as possible. King regards,\",\n",
    "  \"Confirm your email address\",\n",
    "  \"hey i need u to send some $\",\n",
    "  \"Please sign the receipt attached for the arrival of new office facilities.\",\n",
    "  \"Attached is the paper concerning with the cancellation of your current credit card.\",\n",
    "  \"The monthly financial statement is attached within the email.\",\n",
    "  \"The audit report you inquired is attached in the mail. Please review and transfer it to the related department.\",\n",
    "  \"There is a message for you from 01478719696, on 2016/08/23 18:26:30. You might want to check it when you get a chance.Thanks!\",\n",
    "  \"Dear John, I am attaching the mortgage documents relating to your department. They need to be signed in urgent manner.\",\n",
    "  \"This email/fax transmission is confidential and intended solely for the person or organisation to whom it is addressed. If you are not the intended recipient, you must not copy, distribute or disseminate the information, or take any action in reliance of it. Any views expressed in this message are those of the individual sender, except where the sender specifically states them to be the views of any organisation or employer. If you have received this message in error, do not open any attachment but please notify the sender (above) deleting this message from your system. For email transmissions please rely on your own virus check no responsibility is taken by the sender for any damage rising out of any bug or virus infection.\",\n",
    "  \"Sent with Genius Scan for iOS. http://bit.ly/download-genius-scan\",\n",
    "  \"Hey John, as you requested, attached is the paycheck for your next month?s salary in advance.\",\n",
    "  \"I am sending you the flight tickets for your business conference abroad next month. Please see the attached and note the date and time.\",\n",
    "  \"Attached is the bank transactions made from the company during last month. Please file these transactions into financial record.\",\n",
    "  \"example.com SV9100 InMail\",\n",
    "  \"Attached file is scanned image in PDF format. Use Acrobat(R)Reader(R) or Adobe(R)Reader(R) of Adobe Systems Incorporated to view the document. Adobe(R)Reader(R) can be downloaded from the following URL: Adobe, the Adobe logo, Acrobat, the Adobe PDF logo, and Reader are registered trademarks or trademarks of Adobe Systems Incorporated in the United States and other countries.\",\n",
    "  \"Here is the travel expense sheet for your upcoming company field trip. Please write down the approximate costs in the attachment.\",\n",
    "  \"Attached is the list of old office facilities that need to be replaced. Please copy the list into the purchase order form.\",\n",
    "  \"We are sending you the credit card receipt from yesterday. Please match the card number and amount.\",\n",
    "  \"Queries to: <scanner@example.com\",\n",
    "  \"Please find our invoice attached.\",\n",
    "  \"Hello! We are looking for employees working remotely. My name is Margaret, I am the personnel manager of a large International company. Most of the work you can do from home, that is, at a distance. Salary is $3000-$6000. If you are interested in this offer, please visit\",\n",
    "  \"Please see the attached copy of the report.\",\n",
    "  \"Attached is a pdf file containing items that have shipped. Please contact us if there are any questions or further assistance we can provide\",\n",
    "  \"Please see the attached license and send it to the head office.\",\n",
    "  \"Please find attached documents as requested.\",\n",
    "  \"We are looking for employees working remotely. My name is Enid, I am the personnel manager of a large International company. Most of the work you can do from home, that is, at a distance. Salary is $2000-$5400. If you are interested in this offer, please visit\",\n",
    "  \"Your item #123456789 has been sent to you by carrier. He will arrive to youon 23th of September, 2016 at noon.\",\n",
    "  \"Dear John, we are very sorry to inform you that the item you requested is out of stock. Here is the list of items similar to the ones you requested. Please take a look and let us know if you would like to substitute with any of them.\",\n",
    "  \"Thank you for your order! Please find your final sales receipt attached to this email. Your USPS Tracking Number is: 123456789. This order will ship tomorrow and you should be able to begin tracking tomorrow evening after it is picked up. If you have any questions or experience any problems, please let us know so we can assist you. Thanks again and enjoy! Thanks,\",\n",
    "  \"Thanks for using electronic billing. Please find your document attached\",\n",
    "  \"Dear John, I attached the clients’ accounts for your next operation. Please look through them and collect their data. I expect to hear from you soon.\",\n",
    "  \"You are receiving this email because the company has assigned you as part of the approval team. Please review the attached proposal form and make your approval decision. If you have any problem regarding the submission, please contact Gonzalo.\",\n",
    "  \"this is to inform you that your Debit Card is temporarily blocked as there were unknown transactions made today. We attached the scan of transactions. Please confirm whether you made these transactions.\",\n",
    "  \"The letter is attached. Please review his concerns carefully and reply him as soon as possible. King regards,\",\n",
    "  \"Confirm your email address\",\n",
    "  \"hey i need u to send some $\",\n",
    "  \"Please sign the receipt attached for the arrival of new office facilities.\",\n",
    "  \"Attached is the paper concerning with the cancellation of your current credit card.\",\n",
    "  \"The monthly financial statement is attached within the email.\",\n",
    "  \"The audit report you inquired is attached in the mail. Please review and transfer it to the related department.\",\n",
    "  \"There is a message for you from 01478719696, on 2016/08/23 18:26:30. You might want to check it when you get a chance.Thanks!\",\n",
    "  \"Dear John, I am attaching the mortgage documents relating to your department. They need to be signed in urgent manner.\",\n",
    "  \"This email/fax transmission is confidential and intended solely for the person or organisation to whom it is addressed. If you are not the intended recipient, you must not copy, distribute or disseminate the information, or take any action in reliance of it. Any views expressed in this message are those of the individual sender, except where the sender specifically states them to be the views of any organisation or employer. If you have received this message in error, do not open any attachment but please notify the sender (above) deleting this message from your system. For email transmissions please rely on your own virus check no responsibility is taken by the sender for any damage rising out of any bug or virus infection.\",\n",
    "  \"Sent with Genius Scan for iOS. http://bit.ly/download-genius-scan\",\n",
    "  \"Hey John, as you requested, attached is the paycheck for your next month?s salary in advance.\",\n",
    "  \"I am sending you the flight tickets for your business conference abroad next month. Please see the attached and note the date and time.\",\n",
    "  \"Attached is the bank transactions made from the company during last month. Please file these transactions into financial record.\",\n",
    "  \"example.com SV9100 InMail\",\n",
    "  \"Attached file is scanned image in PDF format. Use Acrobat(R)Reader(R) or Adobe(R)Reader(R) of Adobe Systems Incorporated to view the document. Adobe(R)Reader(R) can be downloaded from the following URL: Adobe, the Adobe logo, Acrobat, the Adobe PDF logo, and Reader are registered trademarks or trademarks of Adobe Systems Incorporated in the United States and other countries.\",\n",
    "  \"Here is the travel expense sheet for your upcoming company field trip. Please write down the approximate costs in the attachment.\",\n",
    "  \"Attached is the list of old office facilities that need to be replaced. Please copy the list into the purchase order form.\",\n",
    "  \"We are sending you the credit card receipt from yesterday. Please match the card number and amount.\",\n",
    "  \"Queries to: <scanner@example.com\",\n",
    "  \"Please find our invoice attached.\",\n",
    "  \"Hello! We are looking for employees working remotely. My name is Margaret, I am the personnel manager of a large International company. Most of the work you can do from home, that is, at a distance. Salary is $3000-$6000. If you are interested in this offer, please visit\",\n",
    "  \"Please see the attached copy of the report.\",\n",
    "  \"Attached is a pdf file containing items that have shipped. Please contact us if there are any questions or further assistance we can provide\",\n",
    "  \"Please see the attached license and send it to the head office.\",\n",
    "  \"Please find attached documents as requested.\",\n",
    "  \"We are looking for employees working remotely. My name is Enid, I am the personnel manager of a large International company. Most of the work you can do from home, that is, at a distance. Salary is $2000-$5400. If you are interested in this offer, please visit\",\n",
    "  \"Your item #123456789 has been sent to you by carrier. He will arrive to youon 23th of September, 2016 at noon.\",\n",
    "  \"Dear John, we are very sorry to inform you that the item you requested is out of stock. Here is the list of items similar to the ones you requested. Please take a look and let us know if you would like to substitute with any of them.\",\n",
    "  \"Thank you for your order! Please find your final sales receipt attached to this email. Your USPS Tracking Number is: 123456789. This order will ship tomorrow and you should be able to begin tracking tomorrow evening after it is picked up. If you have any questions or experience any problems, please let us know so we can assist you. Thanks again and enjoy! Thanks,\",\n",
    "  \"Thanks for using electronic billing. Please find your document attached\",\n",
    "  \"Dear John, I attached the clients’ accounts for your next operation. Please look through them and collect their data. I expect to hear from you soon.\",\n",
    "  \"You are receiving this email because the company has assigned you as part of the approval team. Please review the attached proposal form and make your approval decision. If you have any problem regarding the submission, please contact Gonzalo.\",\n",
    "  \"this is to inform you that your Debit Card is temporarily blocked as there were unknown transactions made today. We attached the scan of transactions. Please confirm whether you made these transactions.\",\n",
    "  \"The letter is attached. Please review his concerns carefully and reply him as soon as possible. King regards,\",\n",
    "]\n",
    "\n",
    "res_classify = co.classify(\n",
    "    inputs=inputs_max_exceeded,\n",
    "    examples=examples,\n",
    "    model='embed-english-light-v2.0',\n",
    "    truncate='END'\n",
    ")\n",
    "\n",
    "res_classify.classifications"
   ]
  },
  {
   "cell_type": "markdown",
   "id": "848a9184",
   "metadata": {},
   "source": [
    "### Co.Tokenize"
   ]
  },
  {
   "cell_type": "code",
   "execution_count": null,
   "id": "5dec6d11",
   "metadata": {},
   "outputs": [],
   "source": [
    "res_tokenize = co.tokenize(\n",
    "    text='tokenize me !D',\n",
    ")\n",
    "\n",
    "print(res_tokenize)"
   ]
  },
  {
   "cell_type": "markdown",
   "id": "0c7d83d8",
   "metadata": {},
   "source": [
    "### Co.Detokenize"
   ]
  },
  {
   "cell_type": "code",
   "execution_count": null,
   "id": "9dc64569",
   "metadata": {},
   "outputs": [],
   "source": [
    "tokens = [10002, 2261, 2012, 3362, 43] # tokenize me !D\n",
    "\n",
    "res_detokenize = co.detokenize(\n",
    "    tokens=tokens\n",
    ")\n",
    "\n",
    "print(res_detokenize)"
   ]
  },
  {
   "cell_type": "markdown",
   "id": "faf73435",
   "metadata": {},
   "source": [
    "### Co.Detect_Language"
   ]
  },
  {
   "cell_type": "code",
   "execution_count": null,
   "id": "501e1cbc",
   "metadata": {},
   "outputs": [],
   "source": [
    "res_detect_language = co.detect_language(\n",
    "    texts=['Hello world', \"'Здравствуй, Мир'\", 'こんにちは世界', '世界你好', '안녕하세요']\n",
    ")\n",
    "\n",
    "print(res_detect_language)"
   ]
  },
  {
   "cell_type": "markdown",
   "id": "9cfef2e5",
   "metadata": {},
   "source": [
    "### Co.Summarize"
   ]
  },
  {
   "cell_type": "code",
   "execution_count": null,
   "id": "24a3f80a",
   "metadata": {},
   "outputs": [],
   "source": [
    "text = (\n",
    "  \"Ice cream is a sweetened frozen food typically eaten as a snack or dessert. \"\n",
    "  \"It may be made from milk or cream and is flavoured with a sweetener, \"\n",
    "  \"either sugar or an alternative, and a spice, such as cocoa or vanilla, \"\n",
    "  \"or with fruit such as strawberries or peaches. \"\n",
    "  \"It can also be made by whisking a flavored cream base and liquid nitrogen together. \"\n",
    "  \"Food coloring is sometimes added, in addition to stabilizers. \"\n",
    "  \"The mixture is cooled below the freezing point of water and stirred to incorporate air spaces \"\n",
    "  \"and to prevent detectable ice crystals from forming. The result is a smooth, \"\n",
    "  \"semi-solid foam that is solid at very low temperatures (below 2 °C or 35 °F). \"\n",
    "  \"It becomes more malleable as its temperature increases.\\n\\n\"\n",
    "  \"The meaning of the name \\\"ice cream\\\" varies from one country to another. \"\n",
    "  \"In some countries, such as the United States, \\\"ice cream\\\" applies only to a specific variety, \"\n",
    "  \"and most governments regulate the commercial use of the various terms according to the \"\n",
    "  \"relative quantities of the main ingredients, notably the amount of cream. \"\n",
    "  \"Products that do not meet the criteria to be called ice cream are sometimes labelled \"\n",
    "  \"\\\"frozen dairy dessert\\\" instead. In other countries, such as Italy and Argentina, \"\n",
    "  \"one word is used fo\\r all variants. Analogues made from dairy alternatives, \"\n",
    "  \"such as goat's or sheep's milk, or milk substitutes \"\n",
    "  \"(e.g., soy, cashew, coconut, almond milk or tofu), are available for those who are \"\n",
    "  \"lactose intolerant, allergic to dairy protein or vegan.\"\n",
    ")\n",
    "\n",
    "co_summarize = co.summarize(\n",
    "    text=text\n",
    ")\n",
    "\n",
    "print(co_summarize)"
   ]
  },
  {
   "cell_type": "markdown",
   "id": "035f259e",
   "metadata": {},
   "source": [
    "要約の長さを短く（length=short）し、箇条書き形式（format=bullets）で出力する"
   ]
  },
  {
   "cell_type": "code",
   "execution_count": null,
   "id": "bcd4da5f",
   "metadata": {},
   "outputs": [],
   "source": [
    "co_summarize = co.summarize(\n",
    "    text=text,\n",
    "    length='short',\n",
    "    format='bullets'\n",
    ")\n",
    "\n",
    "co_summarize"
   ]
  },
  {
   "cell_type": "markdown",
   "id": "8dbc4e61",
   "metadata": {},
   "source": [
    "軽量版のモデルを使い（model=command-light）、元の文章からの抽出度を高くし（extractiveness=high）、箇条書き形式で出力する"
   ]
  },
  {
   "cell_type": "code",
   "execution_count": null,
   "id": "e4c73892",
   "metadata": {},
   "outputs": [],
   "source": [
    "co_summarize = co.summarize(\n",
    "    text=text,\n",
    "    model='command-light',\n",
    "    length='short',\n",
    "    format='bullets',\n",
    "    extractiveness='high'\n",
    ")\n",
    "\n",
    "co_summarize"
   ]
  },
  {
   "cell_type": "markdown",
   "id": "dbc80c3f",
   "metadata": {},
   "source": [
    "### Co.Rerank"
   ]
  },
  {
   "cell_type": "code",
   "execution_count": null,
   "id": "91ff7ed0",
   "metadata": {},
   "outputs": [],
   "source": [
    "docs = [\n",
    "    'Carson City is the capital city of the American state of Nevada.',\n",
    "    'The Commonwealth of the Northern Mariana Islands is a group of islands in the Pacific Ocean. Its capital is Saipan.',\n",
    "    'Washington, D.C. (also known as simply Washington or D.C., and officially as the District of Columbia) is the capital of the United States. It is a federal district.',\n",
    "    'Capital punishment (the death penalty) has existed in the United States since beforethe United States was a country. As of 2017, capital punishment is legal in 30 of the 50 states.'\n",
    "]\n",
    "\n",
    "co_rerank = co.rerank(\n",
    "    model='rerank-english-v2.0',\n",
    "    query='What is the capital of the United States?',\n",
    "    documents=docs\n",
    ")\n",
    "\n",
    "print(co_rerank)"
   ]
  },
  {
   "cell_type": "code",
   "execution_count": null,
   "id": "c388f626",
   "metadata": {},
   "outputs": [],
   "source": [
    "docs_ja = [\n",
    "    'カーソンシティはアメリカ・ネバダ州の州都である',\n",
    "    '北マリアナ諸島連邦は太平洋に浮かぶ島々である。首都はサイパンである。',\n",
    "    ' ワシントンD.C.（Washington, D.C.）は、アメリカ合衆国の首都である。連邦区である',\n",
    "    '死刑制度はアメリカ合衆国が国である以前から存在する。2017年現在、死刑は50州のうち30州で合法である。'\n",
    "]\n",
    "\n",
    "co_rerank_ja = co.rerank(\n",
    "    model='rerank-multilingual-v2.0',\n",
    "    query='アメリカの首都は何ですか？',\n",
    "    documents=docs_ja\n",
    ")\n",
    "\n",
    "print(co_rerank_ja)"
   ]
  },
  {
   "cell_type": "markdown",
   "id": "ab1c7770",
   "metadata": {},
   "source": [
    "日本語（model=rerank-multilingual-v2.0）で最も相関の高いもののみ（top_n=1）を返却する。また、出力結果には入力のドキュメントを含めない（return_documents=False）"
   ]
  },
  {
   "cell_type": "code",
   "execution_count": null,
   "id": "949ec7ad",
   "metadata": {},
   "outputs": [],
   "source": [
    "docs_ja = [\n",
    "    'カーソンシティはアメリカ・ネバダ州の州都である',\n",
    "    '北マリアナ諸島連邦は太平洋に浮かぶ島々である。首都はサイパンである。',\n",
    "    ' ワシントンD.C.（Washington, D.C.）は、アメリカ合衆国の首都である。連邦区である',\n",
    "    '死刑制度はアメリカ合衆国が国である以前から存在する。2017年現在、死刑は50州のうち30州で合法である。'\n",
    "]\n",
    "\n",
    "co_rerank_ja = co.rerank(\n",
    "    model='rerank-multilingual-v2.0',\n",
    "    query='アメリカの首都は何ですか？',\n",
    "    documents=docs_ja,\n",
    "    top_n=1,\n",
    ")\n",
    "\n",
    "print(co_rerank_ja)"
   ]
  }
 ],
 "metadata": {
  "kernelspec": {
   "display_name": "Python 3",
   "language": "python",
   "name": "python3"
  },
  "language_info": {
   "codemirror_mode": {
    "name": "ipython",
    "version": 3
   },
   "file_extension": ".py",
   "mimetype": "text/x-python",
   "name": "python",
   "nbconvert_exporter": "python",
   "pygments_lexer": "ipython3",
   "version": "3.10.12"
  }
 },
 "nbformat": 4,
 "nbformat_minor": 5
}
